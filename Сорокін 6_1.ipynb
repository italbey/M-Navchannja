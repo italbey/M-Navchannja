{
 "cells": [
  {
   "cell_type": "markdown",
   "source": [
    "Сорокін Олександр Віталійович Фіт 4-6"
   ],
   "metadata": {
    "collapsed": false
   },
   "id": "32981efd9c5d0efc"
  },
  {
   "cell_type": "markdown",
   "source": [
    "Завдання 6 \n",
    "Варіант 21"
   ],
   "metadata": {
    "collapsed": false
   },
   "id": "6c54dd7f4fd6f48b"
  },
  {
   "cell_type": "code",
   "execution_count": 1,
   "outputs": [],
   "source": [
    "from sklearn.model_selection import train_test_split\n",
    "from sklearn.datasets import load_iris\n",
    "from sklearn.svm import SVC\n",
    "from sklearn.metrics import accuracy_score\n",
    "from sklearn.ensemble import RandomForestClassifier "
   ],
   "metadata": {
    "collapsed": false,
    "ExecuteTime": {
     "end_time": "2023-11-05T23:00:43.881825500Z",
     "start_time": "2023-11-05T23:00:43.344398300Z"
    }
   },
   "id": "5b90702daf48e187"
  },
  {
   "cell_type": "markdown",
   "source": [
    "1.\tРозділити дані на тренувальний та тестовий набори."
   ],
   "metadata": {
    "collapsed": false
   },
   "id": "52c48e322d3b5eda"
  },
  {
   "cell_type": "code",
   "execution_count": 2,
   "outputs": [
    {
     "data": {
      "text/plain": "SVC(C=1, kernel='linear')",
      "text/html": "<style>#sk-container-id-1 {color: black;}#sk-container-id-1 pre{padding: 0;}#sk-container-id-1 div.sk-toggleable {background-color: white;}#sk-container-id-1 label.sk-toggleable__label {cursor: pointer;display: block;width: 100%;margin-bottom: 0;padding: 0.3em;box-sizing: border-box;text-align: center;}#sk-container-id-1 label.sk-toggleable__label-arrow:before {content: \"▸\";float: left;margin-right: 0.25em;color: #696969;}#sk-container-id-1 label.sk-toggleable__label-arrow:hover:before {color: black;}#sk-container-id-1 div.sk-estimator:hover label.sk-toggleable__label-arrow:before {color: black;}#sk-container-id-1 div.sk-toggleable__content {max-height: 0;max-width: 0;overflow: hidden;text-align: left;background-color: #f0f8ff;}#sk-container-id-1 div.sk-toggleable__content pre {margin: 0.2em;color: black;border-radius: 0.25em;background-color: #f0f8ff;}#sk-container-id-1 input.sk-toggleable__control:checked~div.sk-toggleable__content {max-height: 200px;max-width: 100%;overflow: auto;}#sk-container-id-1 input.sk-toggleable__control:checked~label.sk-toggleable__label-arrow:before {content: \"▾\";}#sk-container-id-1 div.sk-estimator input.sk-toggleable__control:checked~label.sk-toggleable__label {background-color: #d4ebff;}#sk-container-id-1 div.sk-label input.sk-toggleable__control:checked~label.sk-toggleable__label {background-color: #d4ebff;}#sk-container-id-1 input.sk-hidden--visually {border: 0;clip: rect(1px 1px 1px 1px);clip: rect(1px, 1px, 1px, 1px);height: 1px;margin: -1px;overflow: hidden;padding: 0;position: absolute;width: 1px;}#sk-container-id-1 div.sk-estimator {font-family: monospace;background-color: #f0f8ff;border: 1px dotted black;border-radius: 0.25em;box-sizing: border-box;margin-bottom: 0.5em;}#sk-container-id-1 div.sk-estimator:hover {background-color: #d4ebff;}#sk-container-id-1 div.sk-parallel-item::after {content: \"\";width: 100%;border-bottom: 1px solid gray;flex-grow: 1;}#sk-container-id-1 div.sk-label:hover label.sk-toggleable__label {background-color: #d4ebff;}#sk-container-id-1 div.sk-serial::before {content: \"\";position: absolute;border-left: 1px solid gray;box-sizing: border-box;top: 0;bottom: 0;left: 50%;z-index: 0;}#sk-container-id-1 div.sk-serial {display: flex;flex-direction: column;align-items: center;background-color: white;padding-right: 0.2em;padding-left: 0.2em;position: relative;}#sk-container-id-1 div.sk-item {position: relative;z-index: 1;}#sk-container-id-1 div.sk-parallel {display: flex;align-items: stretch;justify-content: center;background-color: white;position: relative;}#sk-container-id-1 div.sk-item::before, #sk-container-id-1 div.sk-parallel-item::before {content: \"\";position: absolute;border-left: 1px solid gray;box-sizing: border-box;top: 0;bottom: 0;left: 50%;z-index: -1;}#sk-container-id-1 div.sk-parallel-item {display: flex;flex-direction: column;z-index: 1;position: relative;background-color: white;}#sk-container-id-1 div.sk-parallel-item:first-child::after {align-self: flex-end;width: 50%;}#sk-container-id-1 div.sk-parallel-item:last-child::after {align-self: flex-start;width: 50%;}#sk-container-id-1 div.sk-parallel-item:only-child::after {width: 0;}#sk-container-id-1 div.sk-dashed-wrapped {border: 1px dashed gray;margin: 0 0.4em 0.5em 0.4em;box-sizing: border-box;padding-bottom: 0.4em;background-color: white;}#sk-container-id-1 div.sk-label label {font-family: monospace;font-weight: bold;display: inline-block;line-height: 1.2em;}#sk-container-id-1 div.sk-label-container {text-align: center;}#sk-container-id-1 div.sk-container {/* jupyter's `normalize.less` sets `[hidden] { display: none; }` but bootstrap.min.css set `[hidden] { display: none !important; }` so we also need the `!important` here to be able to override the default hidden behavior on the sphinx rendered scikit-learn.org. See: https://github.com/scikit-learn/scikit-learn/issues/21755 */display: inline-block !important;position: relative;}#sk-container-id-1 div.sk-text-repr-fallback {display: none;}</style><div id=\"sk-container-id-1\" class=\"sk-top-container\"><div class=\"sk-text-repr-fallback\"><pre>SVC(C=1, kernel=&#x27;linear&#x27;)</pre><b>In a Jupyter environment, please rerun this cell to show the HTML representation or trust the notebook. <br />On GitHub, the HTML representation is unable to render, please try loading this page with nbviewer.org.</b></div><div class=\"sk-container\" hidden><div class=\"sk-item\"><div class=\"sk-estimator sk-toggleable\"><input class=\"sk-toggleable__control sk-hidden--visually\" id=\"sk-estimator-id-1\" type=\"checkbox\" checked><label for=\"sk-estimator-id-1\" class=\"sk-toggleable__label sk-toggleable__label-arrow\">SVC</label><div class=\"sk-toggleable__content\"><pre>SVC(C=1, kernel=&#x27;linear&#x27;)</pre></div></div></div></div></div>"
     },
     "execution_count": 2,
     "metadata": {},
     "output_type": "execute_result"
    }
   ],
   "source": [
    "iris = load_iris()\n",
    "X = iris.data\n",
    "y = iris.target\n",
    "X_train, X_test, y_train, y_test = train_test_split(X, y, test_size=0.2, random_state=40)\n",
    "svm_model = SVC(kernel='linear', C=1)\n",
    "svm_model.fit(X_train, y_train)"
   ],
   "metadata": {
    "collapsed": false,
    "ExecuteTime": {
     "end_time": "2023-11-05T23:00:43.892951300Z",
     "start_time": "2023-11-05T23:00:43.883826300Z"
    }
   },
   "id": "56dddf67985fa77e"
  },
  {
   "cell_type": "markdown",
   "source": [
    "2.\tЗастосувати алгоритм SVM для класифікації даних та визначити його точність."
   ],
   "metadata": {
    "collapsed": false
   },
   "id": "e3581ac88247a4ad"
  },
  {
   "cell_type": "code",
   "execution_count": 3,
   "outputs": [
    {
     "name": "stdout",
     "output_type": "stream",
     "text": [
      "Точність моделі SVM: 1.0\n"
     ]
    }
   ],
   "source": [
    "SvmPred = svm_model.predict(X_test)\n",
    "SvmAcc = accuracy_score(y_test, SvmPred)\n",
    "print(\"Точність моделі SVM:\", SvmAcc)"
   ],
   "metadata": {
    "collapsed": false,
    "ExecuteTime": {
     "end_time": "2023-11-05T23:00:43.900273400Z",
     "start_time": "2023-11-05T23:00:43.893951500Z"
    }
   },
   "id": "a6da30be3b38a276"
  },
  {
   "cell_type": "markdown",
   "source": [
    "3.\tЗастосувати Random Forest для класифікації даних та визначити його точність."
   ],
   "metadata": {
    "collapsed": false
   },
   "id": "f313f73417d9b384"
  },
  {
   "cell_type": "code",
   "execution_count": 4,
   "outputs": [
    {
     "name": "stdout",
     "output_type": "stream",
     "text": [
      "Точність моделі Random Forest: 1.0\n"
     ]
    }
   ],
   "source": [
    "RfModel = RandomForestClassifier(n_estimators=150, random_state=40)  # Кількість дерев у лісі\n",
    "RfModel.fit(X_train, y_train)\n",
    "RfPred = RfModel.predict(X_test)\n",
    "rf_accuracy = accuracy_score(y_test, RfPred)\n",
    "print(\"Точність моделі Random Forest:\", rf_accuracy)"
   ],
   "metadata": {
    "collapsed": false,
    "ExecuteTime": {
     "end_time": "2023-11-05T23:00:43.997018300Z",
     "start_time": "2023-11-05T23:00:43.898272900Z"
    }
   },
   "id": "1a17251303065424"
  },
  {
   "cell_type": "markdown",
   "source": [
    "4.\tПорівняти результати обох алгоритмів та обговорити їхню ефективність."
   ],
   "metadata": {
    "collapsed": false
   },
   "id": "c433973d67d357ab"
  },
  {
   "cell_type": "code",
   "execution_count": 5,
   "outputs": [
    {
     "name": "stdout",
     "output_type": "stream",
     "text": [
      "Точність моделі SVM: 1.0\n",
      "Точність моделі Random Forest: 1.0\n",
      "Точність обох моделей однакова\n"
     ]
    }
   ],
   "source": [
    "print(\"Точність моделі SVM:\", SvmAcc)\n",
    "print(\"Точність моделі Random Forest:\", rf_accuracy)\n",
    "if SvmAcc > rf_accuracy:\n",
    "    print(\"Точність моделі SVM більша за точність моделі Random Forest \")\n",
    "elif SvmAcc < rf_accuracy:\n",
    "    print(\"Точність моделі SVM менша за точність моделі Random Forest \")\n",
    "else: \n",
    "    print(\"Точність обох моделей однакова\")"
   ],
   "metadata": {
    "collapsed": false,
    "ExecuteTime": {
     "end_time": "2023-11-05T23:00:43.998011400Z",
     "start_time": "2023-11-05T23:00:43.996255800Z"
    }
   },
   "id": "1be79bc5e6549596"
  },
  {
   "cell_type": "markdown",
   "source": [
    "Висновок: обидва алгоритми продемонстрували однакову точність в цьому завданні. Данні алгоритми є ефективними для класифікації ірисів.    "
   ],
   "metadata": {
    "collapsed": false
   },
   "id": "94bcab987eafcc09"
  }
 ],
 "metadata": {
  "kernelspec": {
   "display_name": "Python 3",
   "language": "python",
   "name": "python3"
  },
  "language_info": {
   "codemirror_mode": {
    "name": "ipython",
    "version": 2
   },
   "file_extension": ".py",
   "mimetype": "text/x-python",
   "name": "python",
   "nbconvert_exporter": "python",
   "pygments_lexer": "ipython2",
   "version": "2.7.6"
  }
 },
 "nbformat": 4,
 "nbformat_minor": 5
}
