{
 "cells": [
  {
   "cell_type": "raw",
   "source": [
    "Практична робота 2\n",
    "Варіант 21 \n",
    "Сорокін Олександ Віталійович"
   ],
   "metadata": {
    "collapsed": false
   },
   "id": "4f4a8fd3575775ea"
  },
  {
   "cell_type": "raw",
   "source": [
    "1.\tВиведіть перші 5 рядків таблиці."
   ],
   "metadata": {
    "collapsed": false
   },
   "id": "4fa920cb98d1a3dd"
  },
  {
   "cell_type": "code",
   "execution_count": 1303,
   "outputs": [],
   "source": [
    "import pandas as pd\n",
    "import numpy as np\n",
    "import matplotlib.pyplot as plt"
   ],
   "metadata": {
    "collapsed": false,
    "ExecuteTime": {
     "end_time": "2023-10-23T21:22:18.272674800Z",
     "start_time": "2023-10-23T21:22:18.248168900Z"
    }
   },
   "id": "ab75ba69107795d5"
  },
  {
   "cell_type": "code",
   "execution_count": 1304,
   "outputs": [
    {
     "name": "stdout",
     "output_type": "stream",
     "text": [
      "    Рік В національній валюті В доларах США  \\\n",
      "0  1992              5832,88▲        28,04▼   \n",
      "1  1993               163533▲        36,03▲   \n",
      "2  1994              1426343▲        44,99▲   \n",
      "3  1995              7304000▲        49,53▲   \n",
      "4  1996               125,23▼        68,45▲   \n",
      "\n",
      "  Кількість кг хліба[20] на середню зарплату  \\\n",
      "0                                   1015,67▲   \n",
      "1                                    430,42▼   \n",
      "2                                    372,76▼   \n",
      "3                                    201,76▼   \n",
      "4                                    198,62▼   \n",
      "\n",
      "  Кількість БігМаків на середню зарплату  \n",
      "0                                      —  \n",
      "1                                      —  \n",
      "2                                      —  \n",
      "3                                      —  \n",
      "4                                      —  \n"
     ]
    }
   ],
   "source": [
    "url = \"https://uk.wikipedia.org/wiki/%D0%A1%D0%B5%D1%80%D0%B5%D0%B4%D0%BD%D1%8F_%D0%B7%D0%B0%D1%80%D0%BE%D0%B1%D1%96%D1%82%D0%BD%D0%B0_%D0%BF%D0%BB%D0%B0%D1%82%D0%B0_%D0%B2_%D0%A3%D0%BA%D1%80%D0%B0%D1%97%D0%BD%D1%96\"\n",
    "data= pd.read_html(url, header=0)[2]\n",
    "df1= data.head(5)\n",
    "print(df1)"
   ],
   "metadata": {
    "collapsed": false,
    "ExecuteTime": {
     "end_time": "2023-10-23T21:22:18.486378Z",
     "start_time": "2023-10-23T21:22:18.250672700Z"
    }
   },
   "id": "43dad8b1cccb1152"
  },
  {
   "cell_type": "raw",
   "source": [
    "2.\tВизначте кількість рядків і стовпчиків за допомогою атрибуту shape"
   ],
   "metadata": {
    "collapsed": false
   },
   "id": "c2957096fc6af03f"
  },
  {
   "cell_type": "code",
   "execution_count": 1305,
   "outputs": [
    {
     "name": "stdout",
     "output_type": "stream",
     "text": [
      "Кількість рядків:\n",
      "32\n",
      "Кількість стовпчиків\n",
      "5\n"
     ]
    }
   ],
   "source": [
    "rows, columns = data.shape\n",
    "print (\"Кількість рядків:\")\n",
    "print (rows)\n",
    "print (\"Кількість стовпчиків\")\n",
    "print (columns )"
   ],
   "metadata": {
    "collapsed": false,
    "ExecuteTime": {
     "end_time": "2023-10-23T21:22:18.487236200Z",
     "start_time": "2023-10-23T21:22:18.482682900Z"
    }
   },
   "id": "ef99100617da42b1"
  },
  {
   "cell_type": "raw",
   "source": [
    "3.\tВизначте загальну кількість років та кількість місяців у даних."
   ],
   "metadata": {
    "collapsed": false
   },
   "id": "f54908f59dd436c2"
  },
  {
   "cell_type": "code",
   "execution_count": 1306,
   "outputs": [
    {
     "name": "stdout",
     "output_type": "stream",
     "text": [
      "роки:\n",
      "32\n",
      "місяці:\n",
      "384\n"
     ]
    }
   ],
   "source": [
    "years= len(data[\"Рік\"]) \n",
    "mounth = years*12\n",
    "print(\"роки:\")\n",
    "print(years)\n",
    "print(\"місяці:\")\n",
    "print (mounth)"
   ],
   "metadata": {
    "collapsed": false,
    "ExecuteTime": {
     "end_time": "2023-10-23T21:22:18.494254300Z",
     "start_time": "2023-10-23T21:22:18.486378Z"
    }
   },
   "id": "ee8cf6eb3e47cff6"
  },
  {
   "cell_type": "raw",
   "source": [
    "4.\tЗамінити пропущені значення  «-» в таблиці на NaN"
   ],
   "metadata": {
    "collapsed": false
   },
   "id": "12f5e71b3bad90f8"
  },
  {
   "cell_type": "code",
   "execution_count": 1307,
   "outputs": [
    {
     "data": {
      "text/plain": "      Рік В національній валюті В доларах США  \\\n0    1992              5832,88▲        28,04▼   \n1    1993               163533▲        36,03▲   \n2    1994              1426343▲        44,99▲   \n3    1995              7304000▲        49,53▲   \n4    1996               125,23▼        68,45▲   \n5    1997               143,09▲        76,86▲   \n6    1998               152,83▲        62,39▼   \n7    1999               177,39▲        42,95▼   \n8    2000               231,04▲        42,47▼   \n9    2001               311,62▲        58,01▲   \n10   2002               375,98▲        70,59▲   \n11   2003               462,58▲        86,74▲   \n12   2004               590,53▲       111,02▲   \n13   2005               806,14▲       157,30▲   \n14   2006              1042,88▲       206,51▲   \n15   2007              1352,75▲       267,87▲   \n16   2008              1808,92▲       343,43▲   \n17   2009              1909,25▲       245,05▼   \n18   2010              2246,75▲       283,12▲   \n19   2011              2639,17▲       331,24▲   \n20   2012              3031,92▲       379,42▲   \n21   2013              3273,82▲       409,59▲   \n22   2014              3474,75▲       292,32▼   \n23   2015              4207,33▲       162,60▼   \n24   2016              5187,33▲       203,02▲   \n25   2017              7105,42▲       267,16▲   \n26   2018              8867,33▲       325,99▲   \n27   2019             10503,75▲       406,40▲   \n28   2020             11596,60▲       430,21▲   \n29   2021             14017,80▲       514,41▲   \n30  2022*             13376,21▼       380,00▼   \n31  2023*             12954,12▼       327,70▼   \n\n   Кількість кг хліба[20] на середню зарплату  \\\n0                                    1015,67▲   \n1                                     430,42▼   \n2                                     372,76▼   \n3                                     201,76▼   \n4                                     198,62▼   \n5                                     211,13▲   \n6                                     177,69▼   \n7                                     180,68▲   \n8                                     117,51▼   \n9                                     153,57▲   \n10                                    213,84▲   \n11                                    276,27▲   \n12                                    276,06▼   \n13                                    332,05▲   \n14                                    441,28▲   \n15                                    498,66▲   \n16                                    585,00▲   \n17                                    497,02▼   \n18                                    527,82▲   \n19                                    564,37▲   \n20                                    585,38▲   \n21                                    625,00▲   \n22                                    642,39▲   \n23                                    517,22▼   \n24                                    441,05▼   \n25                                    450,35▲   \n26                                    497,05▲   \n27                                    528,09▲   \n28                                    549,08▲   \n29                                    560,03▲   \n30                                    409,57▼   \n31                                    367,85▼   \n\n   Кількість БігМаків на середню зарплату  \n0                                     NaN  \n1                                     NaN  \n2                                     NaN  \n3                                     NaN  \n4                                     NaN  \n5                                  20[21]  \n6                                    н.д.  \n7                                 24▲[22]  \n8                                    н.д.  \n9                                 50▲[23]  \n10                                   н.д.  \n11                                   н.д.  \n12                                    81▲  \n13                                   111▲  \n14                                   123▲  \n15                                   146▲  \n16                                   164▲  \n17                                   136▼  \n18                                   155▲  \n19                                   160▲  \n20                                   202▲  \n21                                   172▼  \n22                                   182▲  \n23                                   124▼  \n24                                   133▲  \n25                                   161▲  \n26                                   177▲  \n27                                   184▲  \n28                                   187▲  \n29                                   216▲  \n30                                   132▼  \n31                                   123▼  ",
      "text/html": "<div>\n<style scoped>\n    .dataframe tbody tr th:only-of-type {\n        vertical-align: middle;\n    }\n\n    .dataframe tbody tr th {\n        vertical-align: top;\n    }\n\n    .dataframe thead th {\n        text-align: right;\n    }\n</style>\n<table border=\"1\" class=\"dataframe\">\n  <thead>\n    <tr style=\"text-align: right;\">\n      <th></th>\n      <th>Рік</th>\n      <th>В національній валюті</th>\n      <th>В доларах США</th>\n      <th>Кількість кг хліба[20] на середню зарплату</th>\n      <th>Кількість БігМаків на середню зарплату</th>\n    </tr>\n  </thead>\n  <tbody>\n    <tr>\n      <th>0</th>\n      <td>1992</td>\n      <td>5832,88▲</td>\n      <td>28,04▼</td>\n      <td>1015,67▲</td>\n      <td>NaN</td>\n    </tr>\n    <tr>\n      <th>1</th>\n      <td>1993</td>\n      <td>163533▲</td>\n      <td>36,03▲</td>\n      <td>430,42▼</td>\n      <td>NaN</td>\n    </tr>\n    <tr>\n      <th>2</th>\n      <td>1994</td>\n      <td>1426343▲</td>\n      <td>44,99▲</td>\n      <td>372,76▼</td>\n      <td>NaN</td>\n    </tr>\n    <tr>\n      <th>3</th>\n      <td>1995</td>\n      <td>7304000▲</td>\n      <td>49,53▲</td>\n      <td>201,76▼</td>\n      <td>NaN</td>\n    </tr>\n    <tr>\n      <th>4</th>\n      <td>1996</td>\n      <td>125,23▼</td>\n      <td>68,45▲</td>\n      <td>198,62▼</td>\n      <td>NaN</td>\n    </tr>\n    <tr>\n      <th>5</th>\n      <td>1997</td>\n      <td>143,09▲</td>\n      <td>76,86▲</td>\n      <td>211,13▲</td>\n      <td>20[21]</td>\n    </tr>\n    <tr>\n      <th>6</th>\n      <td>1998</td>\n      <td>152,83▲</td>\n      <td>62,39▼</td>\n      <td>177,69▼</td>\n      <td>н.д.</td>\n    </tr>\n    <tr>\n      <th>7</th>\n      <td>1999</td>\n      <td>177,39▲</td>\n      <td>42,95▼</td>\n      <td>180,68▲</td>\n      <td>24▲[22]</td>\n    </tr>\n    <tr>\n      <th>8</th>\n      <td>2000</td>\n      <td>231,04▲</td>\n      <td>42,47▼</td>\n      <td>117,51▼</td>\n      <td>н.д.</td>\n    </tr>\n    <tr>\n      <th>9</th>\n      <td>2001</td>\n      <td>311,62▲</td>\n      <td>58,01▲</td>\n      <td>153,57▲</td>\n      <td>50▲[23]</td>\n    </tr>\n    <tr>\n      <th>10</th>\n      <td>2002</td>\n      <td>375,98▲</td>\n      <td>70,59▲</td>\n      <td>213,84▲</td>\n      <td>н.д.</td>\n    </tr>\n    <tr>\n      <th>11</th>\n      <td>2003</td>\n      <td>462,58▲</td>\n      <td>86,74▲</td>\n      <td>276,27▲</td>\n      <td>н.д.</td>\n    </tr>\n    <tr>\n      <th>12</th>\n      <td>2004</td>\n      <td>590,53▲</td>\n      <td>111,02▲</td>\n      <td>276,06▼</td>\n      <td>81▲</td>\n    </tr>\n    <tr>\n      <th>13</th>\n      <td>2005</td>\n      <td>806,14▲</td>\n      <td>157,30▲</td>\n      <td>332,05▲</td>\n      <td>111▲</td>\n    </tr>\n    <tr>\n      <th>14</th>\n      <td>2006</td>\n      <td>1042,88▲</td>\n      <td>206,51▲</td>\n      <td>441,28▲</td>\n      <td>123▲</td>\n    </tr>\n    <tr>\n      <th>15</th>\n      <td>2007</td>\n      <td>1352,75▲</td>\n      <td>267,87▲</td>\n      <td>498,66▲</td>\n      <td>146▲</td>\n    </tr>\n    <tr>\n      <th>16</th>\n      <td>2008</td>\n      <td>1808,92▲</td>\n      <td>343,43▲</td>\n      <td>585,00▲</td>\n      <td>164▲</td>\n    </tr>\n    <tr>\n      <th>17</th>\n      <td>2009</td>\n      <td>1909,25▲</td>\n      <td>245,05▼</td>\n      <td>497,02▼</td>\n      <td>136▼</td>\n    </tr>\n    <tr>\n      <th>18</th>\n      <td>2010</td>\n      <td>2246,75▲</td>\n      <td>283,12▲</td>\n      <td>527,82▲</td>\n      <td>155▲</td>\n    </tr>\n    <tr>\n      <th>19</th>\n      <td>2011</td>\n      <td>2639,17▲</td>\n      <td>331,24▲</td>\n      <td>564,37▲</td>\n      <td>160▲</td>\n    </tr>\n    <tr>\n      <th>20</th>\n      <td>2012</td>\n      <td>3031,92▲</td>\n      <td>379,42▲</td>\n      <td>585,38▲</td>\n      <td>202▲</td>\n    </tr>\n    <tr>\n      <th>21</th>\n      <td>2013</td>\n      <td>3273,82▲</td>\n      <td>409,59▲</td>\n      <td>625,00▲</td>\n      <td>172▼</td>\n    </tr>\n    <tr>\n      <th>22</th>\n      <td>2014</td>\n      <td>3474,75▲</td>\n      <td>292,32▼</td>\n      <td>642,39▲</td>\n      <td>182▲</td>\n    </tr>\n    <tr>\n      <th>23</th>\n      <td>2015</td>\n      <td>4207,33▲</td>\n      <td>162,60▼</td>\n      <td>517,22▼</td>\n      <td>124▼</td>\n    </tr>\n    <tr>\n      <th>24</th>\n      <td>2016</td>\n      <td>5187,33▲</td>\n      <td>203,02▲</td>\n      <td>441,05▼</td>\n      <td>133▲</td>\n    </tr>\n    <tr>\n      <th>25</th>\n      <td>2017</td>\n      <td>7105,42▲</td>\n      <td>267,16▲</td>\n      <td>450,35▲</td>\n      <td>161▲</td>\n    </tr>\n    <tr>\n      <th>26</th>\n      <td>2018</td>\n      <td>8867,33▲</td>\n      <td>325,99▲</td>\n      <td>497,05▲</td>\n      <td>177▲</td>\n    </tr>\n    <tr>\n      <th>27</th>\n      <td>2019</td>\n      <td>10503,75▲</td>\n      <td>406,40▲</td>\n      <td>528,09▲</td>\n      <td>184▲</td>\n    </tr>\n    <tr>\n      <th>28</th>\n      <td>2020</td>\n      <td>11596,60▲</td>\n      <td>430,21▲</td>\n      <td>549,08▲</td>\n      <td>187▲</td>\n    </tr>\n    <tr>\n      <th>29</th>\n      <td>2021</td>\n      <td>14017,80▲</td>\n      <td>514,41▲</td>\n      <td>560,03▲</td>\n      <td>216▲</td>\n    </tr>\n    <tr>\n      <th>30</th>\n      <td>2022*</td>\n      <td>13376,21▼</td>\n      <td>380,00▼</td>\n      <td>409,57▼</td>\n      <td>132▼</td>\n    </tr>\n    <tr>\n      <th>31</th>\n      <td>2023*</td>\n      <td>12954,12▼</td>\n      <td>327,70▼</td>\n      <td>367,85▼</td>\n      <td>123▼</td>\n    </tr>\n  </tbody>\n</table>\n</div>"
     },
     "execution_count": 1307,
     "metadata": {},
     "output_type": "execute_result"
    }
   ],
   "source": [
    "data = data.replace('—', np.nan) \n",
    "data"
   ],
   "metadata": {
    "collapsed": false,
    "ExecuteTime": {
     "end_time": "2023-10-23T21:22:18.495246300Z",
     "start_time": "2023-10-23T21:22:18.489739400Z"
    }
   },
   "id": "bdbbf8a40d0eda06"
  },
  {
   "cell_type": "markdown",
   "source": [
    "5.\tВизначити тип стовпців за допомогою dtypes."
   ],
   "metadata": {
    "collapsed": false
   },
   "id": "47388ccab8f12ac3"
  },
  {
   "cell_type": "code",
   "execution_count": 1308,
   "outputs": [
    {
     "data": {
      "text/plain": "Рік                                           object\nВ національній валюті                         object\nВ доларах США                                 object\nКількість кг хліба[20] на середню зарплату    object\nКількість БігМаків на середню зарплату        object\ndtype: object"
     },
     "execution_count": 1308,
     "metadata": {},
     "output_type": "execute_result"
    }
   ],
   "source": [
    "data.dtypes"
   ],
   "metadata": {
    "collapsed": false,
    "ExecuteTime": {
     "end_time": "2023-10-23T21:22:18.501691200Z",
     "start_time": "2023-10-23T21:22:18.495246300Z"
    }
   },
   "id": "6e4fd2991a9b61e9"
  },
  {
   "cell_type": "raw",
   "source": [
    "6.\tВидаліть передостанній і останній стовпчики ( Кількість кгхліба[20] на середнюзарплату,  Кільксть БігМаків на середню зарплату). Далі працюйте з оновленою таблицею. "
   ],
   "metadata": {
    "collapsed": false
   },
   "id": "60644e449a9e0ac5"
  },
  {
   "cell_type": "code",
   "execution_count": 1309,
   "outputs": [
    {
     "data": {
      "text/plain": "      Рік В національній валюті В доларах США\n0    1992              5832,88▲        28,04▼\n1    1993               163533▲        36,03▲\n2    1994              1426343▲        44,99▲\n3    1995              7304000▲        49,53▲\n4    1996               125,23▼        68,45▲\n5    1997               143,09▲        76,86▲\n6    1998               152,83▲        62,39▼\n7    1999               177,39▲        42,95▼\n8    2000               231,04▲        42,47▼\n9    2001               311,62▲        58,01▲\n10   2002               375,98▲        70,59▲\n11   2003               462,58▲        86,74▲\n12   2004               590,53▲       111,02▲\n13   2005               806,14▲       157,30▲\n14   2006              1042,88▲       206,51▲\n15   2007              1352,75▲       267,87▲\n16   2008              1808,92▲       343,43▲\n17   2009              1909,25▲       245,05▼\n18   2010              2246,75▲       283,12▲\n19   2011              2639,17▲       331,24▲\n20   2012              3031,92▲       379,42▲\n21   2013              3273,82▲       409,59▲\n22   2014              3474,75▲       292,32▼\n23   2015              4207,33▲       162,60▼\n24   2016              5187,33▲       203,02▲\n25   2017              7105,42▲       267,16▲\n26   2018              8867,33▲       325,99▲\n27   2019             10503,75▲       406,40▲\n28   2020             11596,60▲       430,21▲\n29   2021             14017,80▲       514,41▲\n30  2022*             13376,21▼       380,00▼\n31  2023*             12954,12▼       327,70▼",
      "text/html": "<div>\n<style scoped>\n    .dataframe tbody tr th:only-of-type {\n        vertical-align: middle;\n    }\n\n    .dataframe tbody tr th {\n        vertical-align: top;\n    }\n\n    .dataframe thead th {\n        text-align: right;\n    }\n</style>\n<table border=\"1\" class=\"dataframe\">\n  <thead>\n    <tr style=\"text-align: right;\">\n      <th></th>\n      <th>Рік</th>\n      <th>В національній валюті</th>\n      <th>В доларах США</th>\n    </tr>\n  </thead>\n  <tbody>\n    <tr>\n      <th>0</th>\n      <td>1992</td>\n      <td>5832,88▲</td>\n      <td>28,04▼</td>\n    </tr>\n    <tr>\n      <th>1</th>\n      <td>1993</td>\n      <td>163533▲</td>\n      <td>36,03▲</td>\n    </tr>\n    <tr>\n      <th>2</th>\n      <td>1994</td>\n      <td>1426343▲</td>\n      <td>44,99▲</td>\n    </tr>\n    <tr>\n      <th>3</th>\n      <td>1995</td>\n      <td>7304000▲</td>\n      <td>49,53▲</td>\n    </tr>\n    <tr>\n      <th>4</th>\n      <td>1996</td>\n      <td>125,23▼</td>\n      <td>68,45▲</td>\n    </tr>\n    <tr>\n      <th>5</th>\n      <td>1997</td>\n      <td>143,09▲</td>\n      <td>76,86▲</td>\n    </tr>\n    <tr>\n      <th>6</th>\n      <td>1998</td>\n      <td>152,83▲</td>\n      <td>62,39▼</td>\n    </tr>\n    <tr>\n      <th>7</th>\n      <td>1999</td>\n      <td>177,39▲</td>\n      <td>42,95▼</td>\n    </tr>\n    <tr>\n      <th>8</th>\n      <td>2000</td>\n      <td>231,04▲</td>\n      <td>42,47▼</td>\n    </tr>\n    <tr>\n      <th>9</th>\n      <td>2001</td>\n      <td>311,62▲</td>\n      <td>58,01▲</td>\n    </tr>\n    <tr>\n      <th>10</th>\n      <td>2002</td>\n      <td>375,98▲</td>\n      <td>70,59▲</td>\n    </tr>\n    <tr>\n      <th>11</th>\n      <td>2003</td>\n      <td>462,58▲</td>\n      <td>86,74▲</td>\n    </tr>\n    <tr>\n      <th>12</th>\n      <td>2004</td>\n      <td>590,53▲</td>\n      <td>111,02▲</td>\n    </tr>\n    <tr>\n      <th>13</th>\n      <td>2005</td>\n      <td>806,14▲</td>\n      <td>157,30▲</td>\n    </tr>\n    <tr>\n      <th>14</th>\n      <td>2006</td>\n      <td>1042,88▲</td>\n      <td>206,51▲</td>\n    </tr>\n    <tr>\n      <th>15</th>\n      <td>2007</td>\n      <td>1352,75▲</td>\n      <td>267,87▲</td>\n    </tr>\n    <tr>\n      <th>16</th>\n      <td>2008</td>\n      <td>1808,92▲</td>\n      <td>343,43▲</td>\n    </tr>\n    <tr>\n      <th>17</th>\n      <td>2009</td>\n      <td>1909,25▲</td>\n      <td>245,05▼</td>\n    </tr>\n    <tr>\n      <th>18</th>\n      <td>2010</td>\n      <td>2246,75▲</td>\n      <td>283,12▲</td>\n    </tr>\n    <tr>\n      <th>19</th>\n      <td>2011</td>\n      <td>2639,17▲</td>\n      <td>331,24▲</td>\n    </tr>\n    <tr>\n      <th>20</th>\n      <td>2012</td>\n      <td>3031,92▲</td>\n      <td>379,42▲</td>\n    </tr>\n    <tr>\n      <th>21</th>\n      <td>2013</td>\n      <td>3273,82▲</td>\n      <td>409,59▲</td>\n    </tr>\n    <tr>\n      <th>22</th>\n      <td>2014</td>\n      <td>3474,75▲</td>\n      <td>292,32▼</td>\n    </tr>\n    <tr>\n      <th>23</th>\n      <td>2015</td>\n      <td>4207,33▲</td>\n      <td>162,60▼</td>\n    </tr>\n    <tr>\n      <th>24</th>\n      <td>2016</td>\n      <td>5187,33▲</td>\n      <td>203,02▲</td>\n    </tr>\n    <tr>\n      <th>25</th>\n      <td>2017</td>\n      <td>7105,42▲</td>\n      <td>267,16▲</td>\n    </tr>\n    <tr>\n      <th>26</th>\n      <td>2018</td>\n      <td>8867,33▲</td>\n      <td>325,99▲</td>\n    </tr>\n    <tr>\n      <th>27</th>\n      <td>2019</td>\n      <td>10503,75▲</td>\n      <td>406,40▲</td>\n    </tr>\n    <tr>\n      <th>28</th>\n      <td>2020</td>\n      <td>11596,60▲</td>\n      <td>430,21▲</td>\n    </tr>\n    <tr>\n      <th>29</th>\n      <td>2021</td>\n      <td>14017,80▲</td>\n      <td>514,41▲</td>\n    </tr>\n    <tr>\n      <th>30</th>\n      <td>2022*</td>\n      <td>13376,21▼</td>\n      <td>380,00▼</td>\n    </tr>\n    <tr>\n      <th>31</th>\n      <td>2023*</td>\n      <td>12954,12▼</td>\n      <td>327,70▼</td>\n    </tr>\n  </tbody>\n</table>\n</div>"
     },
     "execution_count": 1309,
     "metadata": {},
     "output_type": "execute_result"
    }
   ],
   "source": [
    "data_deleted = data.iloc [:, :-2]\n",
    "data_deleted"
   ],
   "metadata": {
    "collapsed": false,
    "ExecuteTime": {
     "end_time": "2023-10-23T21:22:18.507985800Z",
     "start_time": "2023-10-23T21:22:18.498690800Z"
    }
   },
   "id": "1cf8b1e7f9a6d20c"
  },
  {
   "cell_type": "raw",
   "source": [
    "7.\tЗамінити тип нечислових даних на числові"
   ],
   "metadata": {
    "collapsed": false
   },
   "id": "a5cc4084c02d1890"
  },
  {
   "cell_type": "code",
   "execution_count": 1310,
   "outputs": [
    {
     "name": "stdout",
     "output_type": "stream",
     "text": [
      "object\n",
      "object\n"
     ]
    },
    {
     "data": {
      "text/plain": "     Рік  В національній валюті  В доларах США\n0   1992                5832.88          28.04\n1   1993              163533.00          36.03\n2   1994             1426343.00          44.99\n3   1995             7304000.00          49.53\n4   1996                 125.23          68.45\n5   1997                 143.09          76.86\n6   1998                 152.83          62.39\n7   1999                 177.39          42.95\n8   2000                 231.04          42.47\n9   2001                 311.62          58.01\n10  2002                 375.98          70.59\n11  2003                 462.58          86.74\n12  2004                 590.53         111.02\n13  2005                 806.14         157.30\n14  2006                1042.88         206.51\n15  2007                1352.75         267.87\n16  2008                1808.92         343.43\n17  2009                1909.25         245.05\n18  2010                2246.75         283.12\n19  2011                2639.17         331.24\n20  2012                3031.92         379.42\n21  2013                3273.82         409.59\n22  2014                3474.75         292.32\n23  2015                4207.33         162.60\n24  2016                5187.33         203.02\n25  2017                7105.42         267.16\n26  2018                8867.33         325.99\n27  2019               10503.75         406.40\n28  2020               11596.60         430.21\n29  2021               14017.80         514.41\n30  2022               13376.21         380.00\n31  2023               12954.12         327.70",
      "text/html": "<div>\n<style scoped>\n    .dataframe tbody tr th:only-of-type {\n        vertical-align: middle;\n    }\n\n    .dataframe tbody tr th {\n        vertical-align: top;\n    }\n\n    .dataframe thead th {\n        text-align: right;\n    }\n</style>\n<table border=\"1\" class=\"dataframe\">\n  <thead>\n    <tr style=\"text-align: right;\">\n      <th></th>\n      <th>Рік</th>\n      <th>В національній валюті</th>\n      <th>В доларах США</th>\n    </tr>\n  </thead>\n  <tbody>\n    <tr>\n      <th>0</th>\n      <td>1992</td>\n      <td>5832.88</td>\n      <td>28.04</td>\n    </tr>\n    <tr>\n      <th>1</th>\n      <td>1993</td>\n      <td>163533.00</td>\n      <td>36.03</td>\n    </tr>\n    <tr>\n      <th>2</th>\n      <td>1994</td>\n      <td>1426343.00</td>\n      <td>44.99</td>\n    </tr>\n    <tr>\n      <th>3</th>\n      <td>1995</td>\n      <td>7304000.00</td>\n      <td>49.53</td>\n    </tr>\n    <tr>\n      <th>4</th>\n      <td>1996</td>\n      <td>125.23</td>\n      <td>68.45</td>\n    </tr>\n    <tr>\n      <th>5</th>\n      <td>1997</td>\n      <td>143.09</td>\n      <td>76.86</td>\n    </tr>\n    <tr>\n      <th>6</th>\n      <td>1998</td>\n      <td>152.83</td>\n      <td>62.39</td>\n    </tr>\n    <tr>\n      <th>7</th>\n      <td>1999</td>\n      <td>177.39</td>\n      <td>42.95</td>\n    </tr>\n    <tr>\n      <th>8</th>\n      <td>2000</td>\n      <td>231.04</td>\n      <td>42.47</td>\n    </tr>\n    <tr>\n      <th>9</th>\n      <td>2001</td>\n      <td>311.62</td>\n      <td>58.01</td>\n    </tr>\n    <tr>\n      <th>10</th>\n      <td>2002</td>\n      <td>375.98</td>\n      <td>70.59</td>\n    </tr>\n    <tr>\n      <th>11</th>\n      <td>2003</td>\n      <td>462.58</td>\n      <td>86.74</td>\n    </tr>\n    <tr>\n      <th>12</th>\n      <td>2004</td>\n      <td>590.53</td>\n      <td>111.02</td>\n    </tr>\n    <tr>\n      <th>13</th>\n      <td>2005</td>\n      <td>806.14</td>\n      <td>157.30</td>\n    </tr>\n    <tr>\n      <th>14</th>\n      <td>2006</td>\n      <td>1042.88</td>\n      <td>206.51</td>\n    </tr>\n    <tr>\n      <th>15</th>\n      <td>2007</td>\n      <td>1352.75</td>\n      <td>267.87</td>\n    </tr>\n    <tr>\n      <th>16</th>\n      <td>2008</td>\n      <td>1808.92</td>\n      <td>343.43</td>\n    </tr>\n    <tr>\n      <th>17</th>\n      <td>2009</td>\n      <td>1909.25</td>\n      <td>245.05</td>\n    </tr>\n    <tr>\n      <th>18</th>\n      <td>2010</td>\n      <td>2246.75</td>\n      <td>283.12</td>\n    </tr>\n    <tr>\n      <th>19</th>\n      <td>2011</td>\n      <td>2639.17</td>\n      <td>331.24</td>\n    </tr>\n    <tr>\n      <th>20</th>\n      <td>2012</td>\n      <td>3031.92</td>\n      <td>379.42</td>\n    </tr>\n    <tr>\n      <th>21</th>\n      <td>2013</td>\n      <td>3273.82</td>\n      <td>409.59</td>\n    </tr>\n    <tr>\n      <th>22</th>\n      <td>2014</td>\n      <td>3474.75</td>\n      <td>292.32</td>\n    </tr>\n    <tr>\n      <th>23</th>\n      <td>2015</td>\n      <td>4207.33</td>\n      <td>162.60</td>\n    </tr>\n    <tr>\n      <th>24</th>\n      <td>2016</td>\n      <td>5187.33</td>\n      <td>203.02</td>\n    </tr>\n    <tr>\n      <th>25</th>\n      <td>2017</td>\n      <td>7105.42</td>\n      <td>267.16</td>\n    </tr>\n    <tr>\n      <th>26</th>\n      <td>2018</td>\n      <td>8867.33</td>\n      <td>325.99</td>\n    </tr>\n    <tr>\n      <th>27</th>\n      <td>2019</td>\n      <td>10503.75</td>\n      <td>406.40</td>\n    </tr>\n    <tr>\n      <th>28</th>\n      <td>2020</td>\n      <td>11596.60</td>\n      <td>430.21</td>\n    </tr>\n    <tr>\n      <th>29</th>\n      <td>2021</td>\n      <td>14017.80</td>\n      <td>514.41</td>\n    </tr>\n    <tr>\n      <th>30</th>\n      <td>2022</td>\n      <td>13376.21</td>\n      <td>380.00</td>\n    </tr>\n    <tr>\n      <th>31</th>\n      <td>2023</td>\n      <td>12954.12</td>\n      <td>327.70</td>\n    </tr>\n  </tbody>\n</table>\n</div>"
     },
     "execution_count": 1310,
     "metadata": {},
     "output_type": "execute_result"
    }
   ],
   "source": [
    "data_deleted[\"Рік\"] = data_deleted[\"Рік\"].astype(str).str.replace(\"*\", \"\")\n",
    "data_deleted[\"Рік\"] = data_deleted[\"Рік\"].astype(int)\n",
    "data_deleted[\"В національній валюті\"] = data_deleted[\"В національній валюті\"].str.replace('▲', \"\").str.replace('▼', \"\")\n",
    "data_deleted[\"В доларах США\"] = data_deleted[\"В доларах США\"].str.replace('▲', \"\").str.replace('▼', \"\")\n",
    "data_deleted['В національній валюті'] = data_deleted['В національній валюті'].str.replace(',', '.')\n",
    "data_deleted['В доларах США'] = data_deleted['В доларах США'].str.replace(',', '.')\n",
    "for col in data_deleted.iloc[:, 1:]:\n",
    "    if data_deleted[col].dtype != 'float64':\n",
    "        print(data_deleted[col].dtype)\n",
    "        data_deleted[col] = data_deleted [col].astype(float)\n",
    "data_deleted"
   ],
   "metadata": {
    "collapsed": false,
    "ExecuteTime": {
     "end_time": "2023-10-23T21:22:18.563642700Z",
     "start_time": "2023-10-23T21:22:18.505974900Z"
    }
   },
   "id": "4fe101ad74de8c61"
  },
  {
   "cell_type": "raw",
   "source": [
    "8.\tПорахуйте частку пропусків в кожній колонці (за допомогою методів isnull , sum, len)"
   ],
   "metadata": {
    "collapsed": false
   },
   "id": "3d0ec3ae61414d62"
  },
  {
   "cell_type": "code",
   "execution_count": 1311,
   "outputs": [
    {
     "name": "stdout",
     "output_type": "stream",
     "text": [
      "Рік                      0\n",
      "В національній валюті    0\n",
      "В доларах США            0\n",
      "dtype: int64\n",
      "Рік                      0.0\n",
      "В національній валюті    0.0\n",
      "В доларах США            0.0\n",
      "dtype: float64\n"
     ]
    }
   ],
   "source": [
    "propusk1 = data_deleted.isnull().sum()\n",
    "dovzina= len(data_deleted)\n",
    "missingPropusk = (propusk1 / dovzina) \n",
    "print(propusk1)\n",
    "print(missingPropusk)\n"
   ],
   "metadata": {
    "collapsed": false,
    "ExecuteTime": {
     "end_time": "2023-10-23T21:22:18.563642700Z",
     "start_time": "2023-10-23T21:22:18.514779100Z"
    }
   },
   "id": "bcc47f1d4917d048"
  },
  {
   "cell_type": "markdown",
   "source": [
    "9.\tЗамініть всі пропущені значення на середні значення по (стовпцю)."
   ],
   "metadata": {
    "collapsed": false
   },
   "id": "7b351d28f4714a76"
  },
  {
   "cell_type": "code",
   "execution_count": 1312,
   "outputs": [
    {
     "name": "stdout",
     "output_type": "stream",
     "text": [
      "     Рік  В національній валюті  В доларах США\n",
      "0   1992                5832.88          28.04\n",
      "1   1993              163533.00          36.03\n",
      "2   1994             1426343.00          44.99\n",
      "3   1995             7304000.00          49.53\n",
      "4   1996                 125.23          68.45\n",
      "5   1997                 143.09          76.86\n",
      "6   1998                 152.83          62.39\n",
      "7   1999                 177.39          42.95\n",
      "8   2000                 231.04          42.47\n",
      "9   2001                 311.62          58.01\n",
      "10  2002                 375.98          70.59\n",
      "11  2003                 462.58          86.74\n",
      "12  2004                 590.53         111.02\n",
      "13  2005                 806.14         157.30\n",
      "14  2006                1042.88         206.51\n",
      "15  2007                1352.75         267.87\n",
      "16  2008                1808.92         343.43\n",
      "17  2009                1909.25         245.05\n",
      "18  2010                2246.75         283.12\n",
      "19  2011                2639.17         331.24\n",
      "20  2012                3031.92         379.42\n",
      "21  2013                3273.82         409.59\n",
      "22  2014                3474.75         292.32\n",
      "23  2015                4207.33         162.60\n",
      "24  2016                5187.33         203.02\n",
      "25  2017                7105.42         267.16\n",
      "26  2018                8867.33         325.99\n",
      "27  2019               10503.75         406.40\n",
      "28  2020               11596.60         430.21\n",
      "29  2021               14017.80         514.41\n",
      "30  2022               13376.21         380.00\n",
      "31  2023               12954.12         327.70\n"
     ]
    }
   ],
   "source": [
    "missingPropusk = data_deleted.fillna(data_deleted.mean())\n",
    "\n",
    "# Виведення зміненого DataFrame\n",
    "print(missingPropusk)"
   ],
   "metadata": {
    "collapsed": false,
    "ExecuteTime": {
     "end_time": "2023-10-23T21:22:18.563642700Z",
     "start_time": "2023-10-23T21:22:18.518789200Z"
    }
   },
   "id": "679fc589b3dd660c"
  },
  {
   "cell_type": "raw",
   "source": [
    "10.\tЗнайдіть рік з найвищою зарплатою в Україні в грн і вкажіть цю зарплату"
   ],
   "metadata": {
    "collapsed": false
   },
   "id": "b8a20c4de704eddb"
  },
  {
   "cell_type": "code",
   "execution_count": 1313,
   "outputs": [
    {
     "name": "stdout",
     "output_type": "stream",
     "text": [
      "Рік з найвищою зарплатою в Україні: 1995.0\n",
      "Найвища зарплата в Україні: 7304000.0 грн\n"
     ]
    }
   ],
   "source": [
    "MaxUah = missingPropusk.iloc [:,1].max()\n",
    "YearMaxUah = missingPropusk.loc[missingPropusk[\"В національній валюті\"].idxmax()][\"Рік\"]\n",
    "print(f\"Рік з найвищою зарплатою в Україні: {YearMaxUah}\")\n",
    "print(f\"Найвища зарплата в Україні: {MaxUah} грн\")"
   ],
   "metadata": {
    "collapsed": false,
    "ExecuteTime": {
     "end_time": "2023-10-23T21:22:18.563642700Z",
     "start_time": "2023-10-23T21:22:18.523571200Z"
    }
   },
   "id": "c2516ceb5870643c"
  },
  {
   "cell_type": "raw",
   "source": [
    "11.\tЗнайдіть рік з мінімальною  зарплатою в Україні в дол. США і вкажіть цю зарплату"
   ],
   "metadata": {
    "collapsed": false
   },
   "id": "7c3e4b9c5bb541d1"
  },
  {
   "cell_type": "code",
   "execution_count": 1314,
   "outputs": [
    {
     "name": "stdout",
     "output_type": "stream",
     "text": [
      "Рік з найменшою зарплатою дол в Україні: 1992.0\n",
      "Найменша зарплата в Україні: 28.04 дол\n"
     ]
    }
   ],
   "source": [
    "MinUsd = missingPropusk.iloc [:,2].min()\n",
    "YearMinUsd = missingPropusk.loc[missingPropusk[\"В доларах США\"].idxmin()][\"Рік\"]\n",
    "print(f\"Рік з найменшою зарплатою дол в Україні: {YearMinUsd}\")\n",
    "print(f\"Найменша зарплата в Україні: {MinUsd} дол\")"
   ],
   "metadata": {
    "collapsed": false,
    "ExecuteTime": {
     "end_time": "2023-10-23T21:22:18.598647200Z",
     "start_time": "2023-10-23T21:22:18.527227800Z"
    }
   },
   "id": "67b3ec0ce00910a9"
  },
  {
   "cell_type": "raw",
   "source": [
    "12.\tВиведіть роки, коли зарплата в грн була вище середньої."
   ],
   "metadata": {
    "collapsed": false
   },
   "id": "f1f4352010295b95"
  },
  {
   "cell_type": "code",
   "execution_count": 1315,
   "outputs": [
    {
     "name": "stdout",
     "output_type": "stream",
     "text": [
      "Роки, коли зарплата в гривнях була вище середньої:\n",
      "2    1994\n",
      "3    1995\n",
      "Name: Рік, dtype: int32\n"
     ]
    }
   ],
   "source": [
    "Avg = missingPropusk[\"В національній валюті\"].mean()\n",
    "YearsAboveAvg = missingPropusk[missingPropusk[\"В національній валюті\"] > Avg][\"Рік\"]\n",
    "\n",
    "print(\"Роки, коли зарплата в гривнях була вище середньої:\")\n",
    "print(YearsAboveAvg)"
   ],
   "metadata": {
    "collapsed": false,
    "ExecuteTime": {
     "end_time": "2023-10-23T21:22:18.619685Z",
     "start_time": "2023-10-23T21:22:18.530829200Z"
    }
   },
   "id": "aba203f68a4c7b49"
  },
  {
   "cell_type": "raw",
   "source": [
    "13.\tПорівняйте  зарплату  в грн за останні два доступних роки."
   ],
   "metadata": {
    "collapsed": false
   },
   "id": "7a4b830b190d72e1"
  },
  {
   "cell_type": "code",
   "execution_count": 1316,
   "outputs": [
    {
     "name": "stdout",
     "output_type": "stream",
     "text": [
      "Зарплата в гривнях за останній рік: 12954.12\n",
      "Зарплата в гривнях за передостанній рік: 13376.21\n",
      "Зарплата в гривнях зменшилася за останній рік.\n"
     ]
    }
   ],
   "source": [
    "Uah_last_year = missingPropusk.loc[missingPropusk[\"Рік\"].idxmax()][\"В національній валюті\"]\n",
    "Uah_second_last_year = missingPropusk.loc[missingPropusk[\"Рік\"].nlargest(2).idxmin()][\"В національній валюті\"]\n",
    "\n",
    "print(\"Зарплата в гривнях за останній рік:\", Uah_last_year)\n",
    "print(\"Зарплата в гривнях за передостанній рік:\", Uah_second_last_year)\n",
    "\n",
    "if Uah_last_year > Uah_second_last_year:\n",
    "    print(\"Зарплата в гривнях зросла за останній рік.\")\n",
    "elif Uah_last_year < Uah_second_last_year:\n",
    "    print(\"Зарплата в гривнях зменшилася за останній рік.\")\n",
    "else:\n",
    "    print(\"Зарплата в гривнях залишилася незмінною за останній рік.\")\n"
   ],
   "metadata": {
    "collapsed": false,
    "ExecuteTime": {
     "end_time": "2023-10-23T21:22:18.629666700Z",
     "start_time": "2023-10-23T21:22:18.536270Z"
    }
   },
   "id": "b5147fbd69d5717a"
  },
  {
   "cell_type": "markdown",
   "source": [
    "14.\tСтворіть графік, що відображає  зарплату в Україні з часом (за роками)."
   ],
   "metadata": {
    "collapsed": false
   },
   "id": "c4b920483a26e9ff"
  },
  {
   "cell_type": "code",
   "execution_count": 1317,
   "outputs": [
    {
     "data": {
      "text/plain": "<Figure size 800x400 with 1 Axes>",
      "image/png": "[encoded data removed]"
     },
     "metadata": {},
     "output_type": "display_data"
    }
   ],
   "source": [
    "plt.figure(figsize=(8, 4)) \n",
    "plt.plot(missingPropusk[\"Рік\"],missingPropusk[\"В національній валюті\"], marker='o', color='r', linestyle='-', linewidth=1, markersize=5) \n",
    "plt.title('Зарплата в Україні за роками') \n",
    "plt.xlabel('Рік') \n",
    "plt.ylabel('Зарплата в гривнях') \n",
    "plt.grid(True)  \n",
    "plt.xticks(rotation=45) \n",
    "plt.tight_layout()  \n",
    "plt.show() "
   ],
   "metadata": {
    "collapsed": false,
    "ExecuteTime": {
     "end_time": "2023-10-23T21:22:18.708749Z",
     "start_time": "2023-10-23T21:22:18.540242700Z"
    }
   },
   "id": "8770228062ed58d3"
  },
  {
   "cell_type": "markdown",
   "source": [
    "15.\tВидаліть останній рік з таблиці та виведіть оновлену таблицю."
   ],
   "metadata": {
    "collapsed": false
   },
   "id": "4bcba075c44000c9"
  },
  {
   "cell_type": "code",
   "execution_count": 1318,
   "outputs": [
    {
     "name": "stdout",
     "output_type": "stream",
     "text": [
      "Оновлена таблиця без останнього року:\n",
      "     Рік  В національній валюті  В доларах США\n",
      "0   1992                5832.88          28.04\n",
      "1   1993              163533.00          36.03\n",
      "2   1994             1426343.00          44.99\n",
      "3   1995             7304000.00          49.53\n",
      "4   1996                 125.23          68.45\n",
      "5   1997                 143.09          76.86\n",
      "6   1998                 152.83          62.39\n",
      "7   1999                 177.39          42.95\n",
      "8   2000                 231.04          42.47\n",
      "9   2001                 311.62          58.01\n",
      "10  2002                 375.98          70.59\n",
      "11  2003                 462.58          86.74\n",
      "12  2004                 590.53         111.02\n",
      "13  2005                 806.14         157.30\n",
      "14  2006                1042.88         206.51\n",
      "15  2007                1352.75         267.87\n",
      "16  2008                1808.92         343.43\n",
      "17  2009                1909.25         245.05\n",
      "18  2010                2246.75         283.12\n",
      "19  2011                2639.17         331.24\n",
      "20  2012                3031.92         379.42\n",
      "21  2013                3273.82         409.59\n",
      "22  2014                3474.75         292.32\n",
      "23  2015                4207.33         162.60\n",
      "24  2016                5187.33         203.02\n",
      "25  2017                7105.42         267.16\n",
      "26  2018                8867.33         325.99\n",
      "27  2019               10503.75         406.40\n",
      "28  2020               11596.60         430.21\n",
      "29  2021               14017.80         514.41\n",
      "30  2022               13376.21         380.00\n"
     ]
    }
   ],
   "source": [
    "missingPropusk.drop(index =31,inplace=True)\n",
    "\n",
    "# Виведення оновленої таблиці\n",
    "print(\"Оновлена таблиця без останнього року:\")\n",
    "print(missingPropusk)"
   ],
   "metadata": {
    "collapsed": false,
    "ExecuteTime": {
     "end_time": "2023-10-23T21:22:18.709758800Z",
     "start_time": "2023-10-23T21:22:18.629666700Z"
    }
   },
   "id": "545e2b8c666ee3b9"
  },
  {
   "cell_type": "markdown",
   "source": [
    "16.\tПобудуйте графік, що відображає середню зарплату в Україні в розрізі років без останнього року."
   ],
   "metadata": {
    "collapsed": false
   },
   "id": "83d2ddbf21e978b9"
  },
  {
   "cell_type": "code",
   "execution_count": 1319,
   "outputs": [
    {
     "data": {
      "text/plain": "<Figure size 800x400 with 1 Axes>",
      "image/png": "[encoded data removed]"
     },
     "metadata": {},
     "output_type": "display_data"
    }
   ],
   "source": [
    "plt.figure(figsize=(8, 4))\n",
    "plt.plot(missingPropusk[\"Рік\"],missingPropusk[\"В національній валюті\"], marker='o', color='r', linestyle='-', linewidth=1, markersize=5)\n",
    "plt.title('Зарплата в Україні за роками')\n",
    "plt.xlabel('Рік')\n",
    "plt.ylabel('Зарплата в гривнях')\n",
    "plt.grid(True)\n",
    "plt.xticks(rotation=45)\n",
    "plt.tight_layout()\n",
    "plt.show() "
   ],
   "metadata": {
    "collapsed": false,
    "ExecuteTime": {
     "end_time": "2023-10-23T21:22:18.830802200Z",
     "start_time": "2023-10-23T21:22:18.636741400Z"
    }
   },
   "id": "bc91e514c4a3b152"
  },
  {
   "cell_type": "markdown",
   "source": [
    "17.\tОбчисліть зарплату за останні два роки і порівняйте її із зарплатою за останні 5 років. Вкажіть, чи є різниця, і в якому напрямку."
   ],
   "metadata": {
    "collapsed": false
   },
   "id": "aa4471ef9028bbd7"
  },
  {
   "cell_type": "code",
   "execution_count": 1320,
   "outputs": [
    {
     "name": "stdout",
     "output_type": "stream",
     "text": [
      "Середня зарплата за останні 2 роки вище на 2024.67 гривень порівняно з останніми 5 роками.\n"
     ]
    }
   ],
   "source": [
    "AvgUahLast2years = missingPropusk.tail(2)[\"В національній валюті\"].mean()\n",
    "AvgUahLast5years = missingPropusk.tail(5)[\"В національній валюті\"].mean()\n",
    "difference = AvgUahLast2years - AvgUahLast5years\n",
    "if AvgUahLast2years > AvgUahLast5years:    \n",
    "    print(f\"Середня зарплата за останні 2 роки вище на {difference:.2f} гривень порівняно з останніми 5 роками.\")\n",
    "elif AvgUahLast2years < AvgUahLast5years:\n",
    "    print(f\"Середня зарплата за останні 2 роки нижче на {difference:.2f} гривень порівняно з останніми 5 роками.\")\n",
    "else:\n",
    "    print(\"Середня зарплата за останні 2 роки дорівнює середній зарплаті за останні 5 років.\")"
   ],
   "metadata": {
    "collapsed": false,
    "ExecuteTime": {
     "end_time": "2023-10-23T21:22:18.831791Z",
     "start_time": "2023-10-23T21:22:18.730020600Z"
    }
   },
   "id": "dba0a8a666e6f4bf"
  },
  {
   "cell_type": "markdown",
   "source": [
    "Висновок : в ході роботи я отримав навички побудови графіків, зміни та видалення строк та стовпців в таблиці. Дізнався про широкий функціонал бібліотеки pandas та використав його на практиці."
   ],
   "metadata": {
    "collapsed": false
   },
   "id": "4d6f063b24fa2805"
  }
 ],
 "metadata": {
  "kernelspec": {
   "display_name": "Python 3",
   "language": "python",
   "name": "python3"
  },
  "language_info": {
   "codemirror_mode": {
    "name": "ipython",
    "version": 2
   },
   "file_extension": ".py",
   "mimetype": "text/x-python",
   "name": "python",
   "nbconvert_exporter": "python",
   "pygments_lexer": "ipython2",
   "version": "2.7.6"
  }
 },
 "nbformat": 4,
 "nbformat_minor": 5
}
