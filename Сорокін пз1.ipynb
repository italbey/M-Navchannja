{
  "metadata": {
    "language_info": {
      "codemirror_mode": {
        "name": "python",
        "version": 3
      },
      "file_extension": ".py",
      "mimetype": "text/x-python",
      "name": "python",
      "nbconvert_exporter": "python",
      "pygments_lexer": "ipython3",
      "version": "3.8"
    },
    "kernelspec": {
      "name": "python",
      "display_name": "Python (Pyodide)",
      "language": "python"
    }
  },
  "nbformat_minor": 4,
  "nbformat": 4,
  "cells": [
    {
      "cell_type": "markdown",
      "source": "ПРАКТИЧНА РОБОТА 1.\nВступ до машинного навчання. Елементи лінійної алгебри.\n",
      "metadata": {}
    },
    {
      "cell_type": "markdown",
      "source": "Номер варіанту 21",
      "metadata": {}
    },
    {
      "cell_type": "markdown",
      "source": "1.\tСтворіть одновимірний масив (вектор) зі значеннями натуральних чисел, починаючи з 1, та виведіть його значення.",
      "metadata": {}
    },
    {
      "cell_type": "code",
      "source": "import numpy as np",
      "metadata": {
        "trusted": true
      },
      "execution_count": 1,
      "outputs": []
    },
    {
      "cell_type": "code",
      "source": "v1= np.arange(1,15)\nprint(v1)",
      "metadata": {
        "trusted": true
      },
      "execution_count": 2,
      "outputs": [
        {
          "name": "stdout",
          "text": "[ 1  2  3  4  5  6  7  8  9 10 11 12 13 14]\n",
          "output_type": "stream"
        }
      ]
    },
    {
      "cell_type": "markdown",
      "source": "2.\tСтворіть двовимірний масив (матрицю) розміром 3x3, заповніть його косинусами кожного натурального числа, починаючи з 1, та виведіть його значення.",
      "metadata": {}
    },
    {
      "cell_type": "code",
      "source": "M=np.cos(np.arange(1,10).reshape(3,3))\nprint (M)",
      "metadata": {
        "trusted": true
      },
      "execution_count": 3,
      "outputs": [
        {
          "name": "stdout",
          "text": "[[ 0.54030231 -0.41614684 -0.9899925 ]\n [-0.65364362  0.28366219  0.96017029]\n [ 0.75390225 -0.14550003 -0.91113026]]\n",
          "output_type": "stream"
        }
      ]
    },
    {
      "cell_type": "markdown",
      "source": "3.\tСтворіть масив розміром 7x7, заповніть його випадковими цілими числами від -50 до 50 та знайдіть відсоток непарних чисел серед додатних елементів",
      "metadata": {}
    },
    {
      "cell_type": "code",
      "source": "M=np.random.randint(-50,50,size=(7,7))\npositive = M[M>0]\nNeparPositive = positive[positive %2 !=0]\nvidsotok = (len(NeparPositive) / len(positive)) * 100\nprint(\"{:.2f}%\".format(vidsotok))",
      "metadata": {
        "trusted": true
      },
      "execution_count": 4,
      "outputs": [
        {
          "name": "stdout",
          "text": "54.55%\n",
          "output_type": "stream"
        }
      ]
    },
    {
      "cell_type": "markdown",
      "source": "4.\tСтворіть масив розміром 4x4, заповніть його випадковими дійсними числами в діапазоні від -0.7 до 0.7 та виведіть його значення.",
      "metadata": {}
    },
    {
      "cell_type": "code",
      "source": "M = np.random.uniform(-0.7,0.7, size = (4,4))\nprint (M)",
      "metadata": {
        "trusted": true
      },
      "execution_count": 5,
      "outputs": [
        {
          "name": "stdout",
          "text": "[[ 0.3765218   0.216772   -0.62738227  0.44191392]\n [-0.19834121  0.68373509 -0.59563366  0.0491373 ]\n [ 0.4803664   0.68458836 -0.12928278 -0.34204049]\n [ 0.64503053  0.21287553 -0.00788864 -0.63124241]]\n",
          "output_type": "stream"
        }
      ]
    },
    {
      "cell_type": "markdown",
      "source": "5.\tСтворіть два одновимірних масиви розміром 5, заповніть їх випадковими цілими числами в діапазоні від 10 до 20 та виконайте на них поелементні операції додавання, віднімання та множення.",
      "metadata": {}
    },
    {
      "cell_type": "code",
      "source": "A = np.random.randint(10,20, size= (5))\nB = np.random.randint(10,20, size= (5))\nprint (A)\nprint (B)\nprint (A+B)\nprint (A-B)\nprint (A*B)",
      "metadata": {
        "trusted": true
      },
      "execution_count": 6,
      "outputs": [
        {
          "name": "stdout",
          "text": "[19 19 12 11 18]\n[14 14 18 16 15]\n[33 33 30 27 33]\n[ 5  5 -6 -5  3]\n[266 266 216 176 270]\n",
          "output_type": "stream"
        }
      ]
    },
    {
      "cell_type": "markdown",
      "source": "6.\tСтворіть два вектори розміром 6, заповніть їх довільними дійсними числами та знайдіть їх скалярний добуток.",
      "metadata": {}
    },
    {
      "cell_type": "code",
      "source": "list1= np.random.uniform(1,10 ,size=(6))\nlist2= np.random.uniform(1,10 ,size=(6))\nv1= np.array(list1)\nv2= np.array(list2)\nScalDob= np.dot(v1,v2)\nprint (ScalDob)",
      "metadata": {
        "trusted": true
      },
      "execution_count": 7,
      "outputs": [
        {
          "name": "stdout",
          "text": "159.56561307832663\n",
          "output_type": "stream"
        }
      ]
    },
    {
      "cell_type": "markdown",
      "source": "7.\tСтворіть дві матриці розміром 2x3 та 3x3, заповніть їх випадковими цілими числами в діапазоні від 1 до 10 та перемножте їх між собою.",
      "metadata": {}
    },
    {
      "cell_type": "code",
      "source": "M1= np.random.randint(1,10, size=(2,3))\nM2= np.random.randint(1,10, size=(3,3))\nresult = np.dot(M1,M2)\nprint(result)",
      "metadata": {
        "trusted": true
      },
      "execution_count": 8,
      "outputs": [
        {
          "name": "stdout",
          "text": "[[ 68 116 129]\n [ 53  95 116]]\n",
          "output_type": "stream"
        }
      ]
    },
    {
      "cell_type": "markdown",
      "source": "8.\tСтворіть матрицю розміром 2x2, заповніть її випадковими цілими числами в діапазоні від 1 до 12 та знайдіть її обернену матрицю",
      "metadata": {}
    },
    {
      "cell_type": "code",
      "source": "M1= np.random.randint(1,12, size= (2,2))\nreverse= np.linalg.inv(M1)\nprint (M1)\nprint(reverse)",
      "metadata": {
        "trusted": true
      },
      "execution_count": 9,
      "outputs": [
        {
          "name": "stdout",
          "text": "[[8 3]\n [1 8]]\n[[ 0.13114754 -0.04918033]\n [-0.01639344  0.13114754]]\n",
          "output_type": "stream"
        }
      ]
    },
    {
      "cell_type": "markdown",
      "source": "9.\tСтворіть матрицю розміром 3x3, заповніть її випадковими дійсними числами в діапазоні від 0 до 1 та транспонуйте її.",
      "metadata": {}
    },
    {
      "cell_type": "code",
      "source": "M1= np.random.uniform(0,1, size=(3,3))\ntrans= np.transpose(M1)\nprint (M1)\nprint (trans)",
      "metadata": {
        "trusted": true
      },
      "execution_count": 10,
      "outputs": [
        {
          "name": "stdout",
          "text": "[[0.96178603 0.85851325 0.72269663]\n [0.72596643 0.04138607 0.81422858]\n [0.64659353 0.84462384 0.65029768]]\n[[0.96178603 0.72596643 0.64659353]\n [0.85851325 0.04138607 0.84462384]\n [0.72269663 0.81422858 0.65029768]]\n",
          "output_type": "stream"
        }
      ]
    },
    {
      "cell_type": "markdown",
      "source": "10.\tСтворіть матрицю розміром 3x4 та вектор розміром 4, заповніть матрицю випадковими цілими числами в діапазоні від 1 до 10, а вектор - випадковими дійсними числами від 0 до 1, і знайдіть добуток матриці на вектор.",
      "metadata": {}
    },
    {
      "cell_type": "code",
      "source": "M1 = np.random.randint(1,11, size=(3,4))\nlist1 = np.random.uniform(0,1, size= (4))\nV1 = np.array(list1)\nprint (M1)\nprint (V1)\nres= np.dot(M1,V1)\nprint(res)\n",
      "metadata": {
        "trusted": true
      },
      "execution_count": 11,
      "outputs": [
        {
          "name": "stdout",
          "text": "[[7 9 4 4]\n [9 6 6 2]\n [2 1 2 2]]\n[0.63541036 0.93401299 0.70533463 0.70195635]\n[18.48315332 16.95869163  5.01941566]\n",
          "output_type": "stream"
        }
      ]
    },
    {
      "cell_type": "markdown",
      "source": "11.\tСтворіть матрицю розміром 2x3 та вектор розміром 3, заповніть матрицю випадковими дійсними числами від 0 до 1, а вектор - випадковими цілими числами в діапазоні від 1 до 10, і знайдіть добуток матриці на вектор.",
      "metadata": {}
    },
    {
      "cell_type": "code",
      "source": "M1 = np.random.uniform(0,1, size=(2,3))\nList1 = np.random.randint(1,10, size=(3))\nV1=np.array(List1)\ndob= np.dot(M1,List1)\nprint (M1)\nprint (V1)\nprint (dob)",
      "metadata": {
        "trusted": true
      },
      "execution_count": 12,
      "outputs": [
        {
          "name": "stdout",
          "text": "[[0.97723586 0.18443612 0.62297518]\n [0.21937685 0.97324521 0.50816692]]\n[2 7 4]\n[5.73742526 9.28413784]\n",
          "output_type": "stream"
        }
      ]
    },
    {
      "cell_type": "markdown",
      "source": "12.\tСтворіть дві матриці розміром 6x6, заповніть їх випадковими цілими числами в діапазоні від 1 до 10 та знайдіть суму всіх елементів першої матриці.",
      "metadata": {}
    },
    {
      "cell_type": "code",
      "source": "M1= np.random.randint(1,10, size=(6,6))\nM2= np.random.randint(1,10, size=(6,6))\nsum= np.sum(M1)\nprint (M1)\nprint (\"Сума (чомусь неправильно рахується) =\", sum)",
      "metadata": {
        "trusted": true
      },
      "execution_count": 13,
      "outputs": [
        {
          "name": "stdout",
          "text": "[[2 6 8 4 5 1]\n [5 7 7 1 4 8]\n [2 4 5 3 9 2]\n [9 4 3 9 4 7]\n [1 3 3 5 3 9]\n [2 1 5 1 8 4]]\nСума (чомусь неправильно рахується) = 164\n",
          "output_type": "stream"
        }
      ]
    },
    {
      "cell_type": "markdown",
      "source": "13.\tСтворіть дві матриці розміром 5x5, заповніть їх випадковими дійсними числами в діапазоні від -2 до 2 та знайдіть добуток їх елементів.",
      "metadata": {}
    },
    {
      "cell_type": "code",
      "source": "M1 = np.random.uniform(-2,2, size = (5,5))\nM2 = np.random.uniform(-2,2, size = (5,5))\ndob= np.multiply(M1,M2)\nprint(M1)\nprint(M2)\nprint(dob)",
      "metadata": {
        "trusted": true
      },
      "execution_count": 14,
      "outputs": [
        {
          "name": "stdout",
          "text": "[[-0.30751241 -1.39615246  0.81497489 -0.14244108  0.86689722]\n [-1.1679541   1.85622836 -0.530242    0.15367532 -1.91550769]\n [ 0.25316521 -0.77662929  1.6294801   0.81891574 -0.70063188]\n [ 0.01710677  1.31955068 -0.41143427 -0.06559252  1.39886708]\n [ 1.96713445 -1.43013249  0.83660934 -1.03211653  1.4225751 ]]\n[[ 0.05245493  1.98342595 -0.9976074  -1.62749685  1.31338472]\n [-0.93173272  1.3484024   1.41885137  0.7915921  -1.10534333]\n [-1.02882022 -1.19805235  1.39375423  1.68710226  1.07118067]\n [ 1.3982702  -0.1624854   0.74034577  1.12676694 -1.35266606]\n [ 0.98861587 -0.36418981 -1.73795562  0.49294811 -1.75950302]]\n[[-0.01613054 -2.76916501 -0.81302498  0.23182241  1.13856956]\n [ 1.08822105  2.50294278 -0.75233459  0.12164817  2.11729366]\n [-0.26046149  0.93044254  2.27109478  1.38159459 -0.75050332]\n [ 0.02391989 -0.21440772 -0.30460362 -0.07390749 -1.89220003]\n [ 1.94474034  0.52083968 -1.4539899  -0.5087799  -2.50302517]]\n",
          "output_type": "stream"
        }
      ]
    },
    {
      "cell_type": "markdown",
      "source": "14.\tСтворіть матрицю розміром 7x7, заповніть її випадковими дійсними числами в діапазоні від -10 до 10 та знайдіть найменший елемент матриці.",
      "metadata": {}
    },
    {
      "cell_type": "code",
      "source": "M1= np.random.uniform(-10,10, size=(7,7))\nmin = np.min(M1)\nprint(M1)\nprint(min)",
      "metadata": {
        "trusted": true
      },
      "execution_count": 15,
      "outputs": [
        {
          "name": "stdout",
          "text": "[[ 9.65822174  4.87391441 -5.08385281 -4.53883739 -4.89476126  9.59012578\n  -5.66607672]\n [ 5.80020584  3.6460801  -3.95505604 -0.56793513  8.8304755   1.6399995\n  -6.97620075]\n [ 4.02389229 -6.24460368  5.11461297  3.90414756  8.48729981 -5.61939464\n  -5.53850706]\n [ 3.87511547  4.45193314 -8.97824261  1.43146457  2.25638257  7.28012341\n  -5.38205272]\n [ 6.11840446  2.39161099 -7.19921222 -8.30197845 -4.04904616 -8.74939703\n  -5.74456452]\n [-2.23551314 -7.82777097  3.51372983 -2.93355752  9.74832683  5.49386167\n  -7.86896848]\n [ 4.61263205  5.30817797  4.4956536   1.00064161 -8.63115412  0.83186707\n   6.2577648 ]]\n-8.978242605403269\n",
          "output_type": "stream"
        }
      ]
    },
    {
      "cell_type": "markdown",
      "source": "15.\tСтворіть матрицю розміром 7x7, заповніть її випадковими дійсними числами в діапазоні від 0 до 1 та знайдіть вектор-стовпчик, що містить суму елементів кожного стовпця матриці.",
      "metadata": {}
    },
    {
      "cell_type": "code",
      "source": "M1= np.random.uniform(0,1, size=(7,7))\nsum= np.sum(M1, axis=0)\nprint(\"матриця:\")\nprint (M1)\nprint(\"сума стовпчиків матриці\")\nprint (sum)\n",
      "metadata": {
        "trusted": true
      },
      "execution_count": 16,
      "outputs": [
        {
          "name": "stdout",
          "text": "матриця:\n[[0.59705717 0.82072168 0.50150609 0.27600568 0.13144626 0.1862502\n  0.66030463]\n [0.50853515 0.59569968 0.90284382 0.67121458 0.37570181 0.72987813\n  0.52503111]\n [0.79619648 0.62730337 0.97468222 0.44474648 0.56949949 0.25511871\n  0.58272204]\n [0.3568503  0.48144248 0.98740642 0.46168917 0.36155611 0.59656115\n  0.4007678 ]\n [0.38226808 0.54382574 0.4963156  0.80423689 0.28030275 0.44156927\n  0.26038199]\n [0.35127304 0.09716665 0.4767984  0.88613249 0.74959676 0.5071329\n  0.36860786]\n [0.68105873 0.2321942  0.08475341 0.89368928 0.9153321  0.57033302\n  0.27252794]]\nсума стовпчиків матриці\n[3.67323896 3.3983538  4.42430596 4.43771457 3.38343527 3.28684337\n 3.07034336]\n",
          "output_type": "stream"
        }
      ]
    },
    {
      "cell_type": "markdown",
      "source": "Висновок: отримав навички розробки матриць та взаємодії з ними. Завдання були доволі легкими, проте в завданні 12, чомусь неправильно рахується сума матриці",
      "metadata": {}
    }
  ]
}