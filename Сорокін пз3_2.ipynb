{
 "cells": [
  {
   "cell_type": "markdown",
   "source": [
    "Практична робота 3. Аналіз даних. Робота даними csv\n",
    "Варіант 21 Сорокін Олександр"
   ],
   "metadata": {
    "collapsed": false
   },
   "id": "86c8c22daea387bf"
  },
  {
   "cell_type": "markdown",
   "source": [
    "Завдання 2.\n",
    "Скачайте датасет  Amazon Top 50 Bestselling Books 2009 – 2019, що знаходиться  за посиланням\n"
   ],
   "metadata": {
    "collapsed": false
   },
   "id": "26bdbd82fe9b9a26"
  },
  {
   "cell_type": "markdown",
   "source": [
    "1. Прочитайте csv файл (метод read_csv)"
   ],
   "metadata": {
    "collapsed": false
   },
   "id": "c1adb09eb72c5757"
  },
  {
   "cell_type": "code",
   "execution_count": 530,
   "outputs": [],
   "source": [
    "import numpy as np\n",
    "import pandas as pd"
   ],
   "metadata": {
    "collapsed": false,
    "ExecuteTime": {
     "end_time": "2023-10-26T19:11:55.071928800Z",
     "start_time": "2023-10-26T19:11:55.045533700Z"
    }
   },
   "id": "6d971ff981dde3ef"
  },
  {
   "cell_type": "code",
   "execution_count": 531,
   "outputs": [
    {
     "data": {
      "text/plain": "                                                  Name  \\\n0                        10-Day Green Smoothie Cleanse   \n1                                    11/22/63: A Novel   \n2              12 Rules for Life: An Antidote to Chaos   \n3                               1984 (Signet Classics)   \n4    5,000 Awesome Facts (About Everything!) (Natio...   \n..                                                 ...   \n545       Wrecking Ball (Diary of a Wimpy Kid Book 14)   \n546  You Are a Badass: How to Stop Doubting Your Gr...   \n547  You Are a Badass: How to Stop Doubting Your Gr...   \n548  You Are a Badass: How to Stop Doubting Your Gr...   \n549  You Are a Badass: How to Stop Doubting Your Gr...   \n\n                       Author  User Rating  Reviews  Price  Year        Genre  \n0                    JJ Smith          4.7    17350      8  2016  Non Fiction  \n1                Stephen King          4.6     2052     22  2011      Fiction  \n2          Jordan B. Peterson          4.7    18979     15  2018  Non Fiction  \n3               George Orwell          4.7    21424      6  2017      Fiction  \n4    National Geographic Kids          4.8     7665     12  2019  Non Fiction  \n..                        ...          ...      ...    ...   ...          ...  \n545               Jeff Kinney          4.9     9413      8  2019      Fiction  \n546               Jen Sincero          4.7    14331      8  2016  Non Fiction  \n547               Jen Sincero          4.7    14331      8  2017  Non Fiction  \n548               Jen Sincero          4.7    14331      8  2018  Non Fiction  \n549               Jen Sincero          4.7    14331      8  2019  Non Fiction  \n\n[550 rows x 7 columns]",
      "text/html": "<div>\n<style scoped>\n    .dataframe tbody tr th:only-of-type {\n        vertical-align: middle;\n    }\n\n    .dataframe tbody tr th {\n        vertical-align: top;\n    }\n\n    .dataframe thead th {\n        text-align: right;\n    }\n</style>\n<table border=\"1\" class=\"dataframe\">\n  <thead>\n    <tr style=\"text-align: right;\">\n      <th></th>\n      <th>Name</th>\n      <th>Author</th>\n      <th>User Rating</th>\n      <th>Reviews</th>\n      <th>Price</th>\n      <th>Year</th>\n      <th>Genre</th>\n    </tr>\n  </thead>\n  <tbody>\n    <tr>\n      <th>0</th>\n      <td>10-Day Green Smoothie Cleanse</td>\n      <td>JJ Smith</td>\n      <td>4.7</td>\n      <td>17350</td>\n      <td>8</td>\n      <td>2016</td>\n      <td>Non Fiction</td>\n    </tr>\n    <tr>\n      <th>1</th>\n      <td>11/22/63: A Novel</td>\n      <td>Stephen King</td>\n      <td>4.6</td>\n      <td>2052</td>\n      <td>22</td>\n      <td>2011</td>\n      <td>Fiction</td>\n    </tr>\n    <tr>\n      <th>2</th>\n      <td>12 Rules for Life: An Antidote to Chaos</td>\n      <td>Jordan B. Peterson</td>\n      <td>4.7</td>\n      <td>18979</td>\n      <td>15</td>\n      <td>2018</td>\n      <td>Non Fiction</td>\n    </tr>\n    <tr>\n      <th>3</th>\n      <td>1984 (Signet Classics)</td>\n      <td>George Orwell</td>\n      <td>4.7</td>\n      <td>21424</td>\n      <td>6</td>\n      <td>2017</td>\n      <td>Fiction</td>\n    </tr>\n    <tr>\n      <th>4</th>\n      <td>5,000 Awesome Facts (About Everything!) (Natio...</td>\n      <td>National Geographic Kids</td>\n      <td>4.8</td>\n      <td>7665</td>\n      <td>12</td>\n      <td>2019</td>\n      <td>Non Fiction</td>\n    </tr>\n    <tr>\n      <th>...</th>\n      <td>...</td>\n      <td>...</td>\n      <td>...</td>\n      <td>...</td>\n      <td>...</td>\n      <td>...</td>\n      <td>...</td>\n    </tr>\n    <tr>\n      <th>545</th>\n      <td>Wrecking Ball (Diary of a Wimpy Kid Book 14)</td>\n      <td>Jeff Kinney</td>\n      <td>4.9</td>\n      <td>9413</td>\n      <td>8</td>\n      <td>2019</td>\n      <td>Fiction</td>\n    </tr>\n    <tr>\n      <th>546</th>\n      <td>You Are a Badass: How to Stop Doubting Your Gr...</td>\n      <td>Jen Sincero</td>\n      <td>4.7</td>\n      <td>14331</td>\n      <td>8</td>\n      <td>2016</td>\n      <td>Non Fiction</td>\n    </tr>\n    <tr>\n      <th>547</th>\n      <td>You Are a Badass: How to Stop Doubting Your Gr...</td>\n      <td>Jen Sincero</td>\n      <td>4.7</td>\n      <td>14331</td>\n      <td>8</td>\n      <td>2017</td>\n      <td>Non Fiction</td>\n    </tr>\n    <tr>\n      <th>548</th>\n      <td>You Are a Badass: How to Stop Doubting Your Gr...</td>\n      <td>Jen Sincero</td>\n      <td>4.7</td>\n      <td>14331</td>\n      <td>8</td>\n      <td>2018</td>\n      <td>Non Fiction</td>\n    </tr>\n    <tr>\n      <th>549</th>\n      <td>You Are a Badass: How to Stop Doubting Your Gr...</td>\n      <td>Jen Sincero</td>\n      <td>4.7</td>\n      <td>14331</td>\n      <td>8</td>\n      <td>2019</td>\n      <td>Non Fiction</td>\n    </tr>\n  </tbody>\n</table>\n<p>550 rows × 7 columns</p>\n</div>"
     },
     "execution_count": 531,
     "metadata": {},
     "output_type": "execute_result"
    }
   ],
   "source": [
    "info = pd.read_csv(r'C:\\Users\\Italbey\\Desktop\\дз\\мн\\bestsellers with categories.csv', encoding='latin1')\n",
    "info"
   ],
   "metadata": {
    "collapsed": false,
    "ExecuteTime": {
     "end_time": "2023-10-26T19:11:55.082380600Z",
     "start_time": "2023-10-26T19:11:55.048036700Z"
    }
   },
   "id": "19bc72915a54b719"
  },
  {
   "cell_type": "markdown",
   "source": [
    "2.\tВиведіть перші 10 рядків (метод head)"
   ],
   "metadata": {
    "collapsed": false
   },
   "id": "e5bcf1f1a79dc528"
  },
  {
   "cell_type": "code",
   "execution_count": 532,
   "outputs": [
    {
     "data": {
      "text/plain": "                                                Name  \\\n0                      10-Day Green Smoothie Cleanse   \n1                                  11/22/63: A Novel   \n2            12 Rules for Life: An Antidote to Chaos   \n3                             1984 (Signet Classics)   \n4  5,000 Awesome Facts (About Everything!) (Natio...   \n5      A Dance with Dragons (A Song of Ice and Fire)   \n6  A Game of Thrones / A Clash of Kings / A Storm...   \n7                     A Gentleman in Moscow: A Novel   \n8      A Higher Loyalty: Truth, Lies, and Leadership   \n9                          A Man Called Ove: A Novel   \n\n                     Author  User Rating  Reviews  Price  Year        Genre  \n0                  JJ Smith          4.7    17350      8  2016  Non Fiction  \n1              Stephen King          4.6     2052     22  2011      Fiction  \n2        Jordan B. Peterson          4.7    18979     15  2018  Non Fiction  \n3             George Orwell          4.7    21424      6  2017      Fiction  \n4  National Geographic Kids          4.8     7665     12  2019  Non Fiction  \n5       George R. R. Martin          4.4    12643     11  2011      Fiction  \n6       George R. R. Martin          4.7    19735     30  2014      Fiction  \n7               Amor Towles          4.7    19699     15  2017      Fiction  \n8               James Comey          4.7     5983      3  2018  Non Fiction  \n9           Fredrik Backman          4.6    23848      8  2016      Fiction  ",
      "text/html": "<div>\n<style scoped>\n    .dataframe tbody tr th:only-of-type {\n        vertical-align: middle;\n    }\n\n    .dataframe tbody tr th {\n        vertical-align: top;\n    }\n\n    .dataframe thead th {\n        text-align: right;\n    }\n</style>\n<table border=\"1\" class=\"dataframe\">\n  <thead>\n    <tr style=\"text-align: right;\">\n      <th></th>\n      <th>Name</th>\n      <th>Author</th>\n      <th>User Rating</th>\n      <th>Reviews</th>\n      <th>Price</th>\n      <th>Year</th>\n      <th>Genre</th>\n    </tr>\n  </thead>\n  <tbody>\n    <tr>\n      <th>0</th>\n      <td>10-Day Green Smoothie Cleanse</td>\n      <td>JJ Smith</td>\n      <td>4.7</td>\n      <td>17350</td>\n      <td>8</td>\n      <td>2016</td>\n      <td>Non Fiction</td>\n    </tr>\n    <tr>\n      <th>1</th>\n      <td>11/22/63: A Novel</td>\n      <td>Stephen King</td>\n      <td>4.6</td>\n      <td>2052</td>\n      <td>22</td>\n      <td>2011</td>\n      <td>Fiction</td>\n    </tr>\n    <tr>\n      <th>2</th>\n      <td>12 Rules for Life: An Antidote to Chaos</td>\n      <td>Jordan B. Peterson</td>\n      <td>4.7</td>\n      <td>18979</td>\n      <td>15</td>\n      <td>2018</td>\n      <td>Non Fiction</td>\n    </tr>\n    <tr>\n      <th>3</th>\n      <td>1984 (Signet Classics)</td>\n      <td>George Orwell</td>\n      <td>4.7</td>\n      <td>21424</td>\n      <td>6</td>\n      <td>2017</td>\n      <td>Fiction</td>\n    </tr>\n    <tr>\n      <th>4</th>\n      <td>5,000 Awesome Facts (About Everything!) (Natio...</td>\n      <td>National Geographic Kids</td>\n      <td>4.8</td>\n      <td>7665</td>\n      <td>12</td>\n      <td>2019</td>\n      <td>Non Fiction</td>\n    </tr>\n    <tr>\n      <th>5</th>\n      <td>A Dance with Dragons (A Song of Ice and Fire)</td>\n      <td>George R. R. Martin</td>\n      <td>4.4</td>\n      <td>12643</td>\n      <td>11</td>\n      <td>2011</td>\n      <td>Fiction</td>\n    </tr>\n    <tr>\n      <th>6</th>\n      <td>A Game of Thrones / A Clash of Kings / A Storm...</td>\n      <td>George R. R. Martin</td>\n      <td>4.7</td>\n      <td>19735</td>\n      <td>30</td>\n      <td>2014</td>\n      <td>Fiction</td>\n    </tr>\n    <tr>\n      <th>7</th>\n      <td>A Gentleman in Moscow: A Novel</td>\n      <td>Amor Towles</td>\n      <td>4.7</td>\n      <td>19699</td>\n      <td>15</td>\n      <td>2017</td>\n      <td>Fiction</td>\n    </tr>\n    <tr>\n      <th>8</th>\n      <td>A Higher Loyalty: Truth, Lies, and Leadership</td>\n      <td>James Comey</td>\n      <td>4.7</td>\n      <td>5983</td>\n      <td>3</td>\n      <td>2018</td>\n      <td>Non Fiction</td>\n    </tr>\n    <tr>\n      <th>9</th>\n      <td>A Man Called Ove: A Novel</td>\n      <td>Fredrik Backman</td>\n      <td>4.6</td>\n      <td>23848</td>\n      <td>8</td>\n      <td>2016</td>\n      <td>Fiction</td>\n    </tr>\n  </tbody>\n</table>\n</div>"
     },
     "execution_count": 532,
     "metadata": {},
     "output_type": "execute_result"
    }
   ],
   "source": [
    "info.head(10)"
   ],
   "metadata": {
    "collapsed": false,
    "ExecuteTime": {
     "end_time": "2023-10-26T19:11:55.084368700Z",
     "start_time": "2023-10-26T19:11:55.055202800Z"
    }
   },
   "id": "9bdeee095bd5e07"
  },
  {
   "cell_type": "markdown",
   "source": [
    "3.\tВиведіть розміри датасету (метод shape)"
   ],
   "metadata": {
    "collapsed": false
   },
   "id": "e100639924668d03"
  },
  {
   "cell_type": "code",
   "execution_count": 533,
   "outputs": [
    {
     "name": "stdout",
     "output_type": "stream",
     "text": [
      "Кількість рядків: 550\n",
      "Кількість стовбців: 7\n"
     ]
    }
   ],
   "source": [
    "rows, columns = info.shape\n",
    "print(f\"Кількість рядків: {rows}\")\n",
    "print(f\"Кількість стовбців: {columns}\")"
   ],
   "metadata": {
    "collapsed": false,
    "ExecuteTime": {
     "end_time": "2023-10-26T19:11:55.085369100Z",
     "start_time": "2023-10-26T19:11:55.061284300Z"
    }
   },
   "id": "8e78d93f0252bb52"
  },
  {
   "cell_type": "markdown",
   "source": [
    "Питання: Про скільки книг зберігає дані датасет?"
   ],
   "metadata": {
    "collapsed": false
   },
   "id": "57eda2553234c88b"
  },
  {
   "cell_type": "code",
   "execution_count": 534,
   "outputs": [
    {
     "name": "stdout",
     "output_type": "stream",
     "text": [
      "Кількість книг: 550\n"
     ]
    }
   ],
   "source": [
    "print(f\"Кількість книг: {rows}\")"
   ],
   "metadata": {
    "collapsed": false,
    "ExecuteTime": {
     "end_time": "2023-10-26T19:11:55.085369100Z",
     "start_time": "2023-10-26T19:11:55.064533600Z"
    }
   },
   "id": "cbd510f5bf9494fd"
  },
  {
   "cell_type": "markdown",
   "source": [
    "4.\tЗмініть назви всіх колонок: назва з маленької букви, без пробілів через підкреслення."
   ],
   "metadata": {
    "collapsed": false
   },
   "id": "a4d9a2f98e976656"
  },
  {
   "cell_type": "code",
   "execution_count": 535,
   "outputs": [
    {
     "data": {
      "text/plain": "                                                  name  \\\n0                        10-Day Green Smoothie Cleanse   \n1                                    11/22/63: A Novel   \n2              12 Rules for Life: An Antidote to Chaos   \n3                               1984 (Signet Classics)   \n4    5,000 Awesome Facts (About Everything!) (Natio...   \n..                                                 ...   \n545       Wrecking Ball (Diary of a Wimpy Kid Book 14)   \n546  You Are a Badass: How to Stop Doubting Your Gr...   \n547  You Are a Badass: How to Stop Doubting Your Gr...   \n548  You Are a Badass: How to Stop Doubting Your Gr...   \n549  You Are a Badass: How to Stop Doubting Your Gr...   \n\n                       author  user_rating  reviews  price  year        genre  \n0                    JJ Smith          4.7    17350      8  2016  Non Fiction  \n1                Stephen King          4.6     2052     22  2011      Fiction  \n2          Jordan B. Peterson          4.7    18979     15  2018  Non Fiction  \n3               George Orwell          4.7    21424      6  2017      Fiction  \n4    National Geographic Kids          4.8     7665     12  2019  Non Fiction  \n..                        ...          ...      ...    ...   ...          ...  \n545               Jeff Kinney          4.9     9413      8  2019      Fiction  \n546               Jen Sincero          4.7    14331      8  2016  Non Fiction  \n547               Jen Sincero          4.7    14331      8  2017  Non Fiction  \n548               Jen Sincero          4.7    14331      8  2018  Non Fiction  \n549               Jen Sincero          4.7    14331      8  2019  Non Fiction  \n\n[550 rows x 7 columns]",
      "text/html": "<div>\n<style scoped>\n    .dataframe tbody tr th:only-of-type {\n        vertical-align: middle;\n    }\n\n    .dataframe tbody tr th {\n        vertical-align: top;\n    }\n\n    .dataframe thead th {\n        text-align: right;\n    }\n</style>\n<table border=\"1\" class=\"dataframe\">\n  <thead>\n    <tr style=\"text-align: right;\">\n      <th></th>\n      <th>name</th>\n      <th>author</th>\n      <th>user_rating</th>\n      <th>reviews</th>\n      <th>price</th>\n      <th>year</th>\n      <th>genre</th>\n    </tr>\n  </thead>\n  <tbody>\n    <tr>\n      <th>0</th>\n      <td>10-Day Green Smoothie Cleanse</td>\n      <td>JJ Smith</td>\n      <td>4.7</td>\n      <td>17350</td>\n      <td>8</td>\n      <td>2016</td>\n      <td>Non Fiction</td>\n    </tr>\n    <tr>\n      <th>1</th>\n      <td>11/22/63: A Novel</td>\n      <td>Stephen King</td>\n      <td>4.6</td>\n      <td>2052</td>\n      <td>22</td>\n      <td>2011</td>\n      <td>Fiction</td>\n    </tr>\n    <tr>\n      <th>2</th>\n      <td>12 Rules for Life: An Antidote to Chaos</td>\n      <td>Jordan B. Peterson</td>\n      <td>4.7</td>\n      <td>18979</td>\n      <td>15</td>\n      <td>2018</td>\n      <td>Non Fiction</td>\n    </tr>\n    <tr>\n      <th>3</th>\n      <td>1984 (Signet Classics)</td>\n      <td>George Orwell</td>\n      <td>4.7</td>\n      <td>21424</td>\n      <td>6</td>\n      <td>2017</td>\n      <td>Fiction</td>\n    </tr>\n    <tr>\n      <th>4</th>\n      <td>5,000 Awesome Facts (About Everything!) (Natio...</td>\n      <td>National Geographic Kids</td>\n      <td>4.8</td>\n      <td>7665</td>\n      <td>12</td>\n      <td>2019</td>\n      <td>Non Fiction</td>\n    </tr>\n    <tr>\n      <th>...</th>\n      <td>...</td>\n      <td>...</td>\n      <td>...</td>\n      <td>...</td>\n      <td>...</td>\n      <td>...</td>\n      <td>...</td>\n    </tr>\n    <tr>\n      <th>545</th>\n      <td>Wrecking Ball (Diary of a Wimpy Kid Book 14)</td>\n      <td>Jeff Kinney</td>\n      <td>4.9</td>\n      <td>9413</td>\n      <td>8</td>\n      <td>2019</td>\n      <td>Fiction</td>\n    </tr>\n    <tr>\n      <th>546</th>\n      <td>You Are a Badass: How to Stop Doubting Your Gr...</td>\n      <td>Jen Sincero</td>\n      <td>4.7</td>\n      <td>14331</td>\n      <td>8</td>\n      <td>2016</td>\n      <td>Non Fiction</td>\n    </tr>\n    <tr>\n      <th>547</th>\n      <td>You Are a Badass: How to Stop Doubting Your Gr...</td>\n      <td>Jen Sincero</td>\n      <td>4.7</td>\n      <td>14331</td>\n      <td>8</td>\n      <td>2017</td>\n      <td>Non Fiction</td>\n    </tr>\n    <tr>\n      <th>548</th>\n      <td>You Are a Badass: How to Stop Doubting Your Gr...</td>\n      <td>Jen Sincero</td>\n      <td>4.7</td>\n      <td>14331</td>\n      <td>8</td>\n      <td>2018</td>\n      <td>Non Fiction</td>\n    </tr>\n    <tr>\n      <th>549</th>\n      <td>You Are a Badass: How to Stop Doubting Your Gr...</td>\n      <td>Jen Sincero</td>\n      <td>4.7</td>\n      <td>14331</td>\n      <td>8</td>\n      <td>2019</td>\n      <td>Non Fiction</td>\n    </tr>\n  </tbody>\n</table>\n<p>550 rows × 7 columns</p>\n</div>"
     },
     "execution_count": 535,
     "metadata": {},
     "output_type": "execute_result"
    }
   ],
   "source": [
    "info.columns = ['name', 'author', 'user_rating', 'reviews', 'price', 'year', 'genre']\n",
    "info"
   ],
   "metadata": {
    "collapsed": false,
    "ExecuteTime": {
     "end_time": "2023-10-26T19:11:55.114220900Z",
     "start_time": "2023-10-26T19:11:55.066417900Z"
    }
   },
   "id": "463dec511fce082c"
  },
  {
   "cell_type": "markdown",
   "source": [
    "5.\tВивести кількість пропусків у кожному стовпчику.Питання : Чи є в якихось змінних пропуски? (Так / ні)"
   ],
   "metadata": {
    "collapsed": false
   },
   "id": "d575e8a231ec5bd6"
  },
  {
   "cell_type": "code",
   "execution_count": 536,
   "outputs": [
    {
     "name": "stdout",
     "output_type": "stream",
     "text": [
      "name           0\n",
      "author         0\n",
      "user_rating    0\n",
      "reviews        0\n",
      "price          0\n",
      "year           0\n",
      "genre          0\n",
      "dtype: int64\n",
      "no\n"
     ]
    }
   ],
   "source": [
    "propuski = info.isna().sum()\n",
    "print (propuski)\n",
    "if info.isna().any().any():\n",
    "    print(\"yes\")\n",
    "else:\n",
    "    print(\"no\")"
   ],
   "metadata": {
    "collapsed": false,
    "ExecuteTime": {
     "end_time": "2023-10-26T19:11:55.115197100Z",
     "start_time": "2023-10-26T19:11:55.072442200Z"
    }
   },
   "id": "68dec41b5e1b427c"
  },
  {
   "cell_type": "markdown",
   "source": [
    "6.\tЗа допомогою методу unique  перевірте. Які є унікальні жанри в стовпці genre \n",
    "Питання : Які є унікальні жанри?"
   ],
   "metadata": {
    "collapsed": false
   },
   "id": "3d7de044485ade41"
  },
  {
   "cell_type": "code",
   "execution_count": 537,
   "outputs": [
    {
     "name": "stdout",
     "output_type": "stream",
     "text": [
      "унікальні жанри: ['Non Fiction' 'Fiction']\n"
     ]
    }
   ],
   "source": [
    "unikalni = info[\"genre\"].unique()\n",
    "print (\"унікальні жанри:\", unikalni)"
   ],
   "metadata": {
    "collapsed": false,
    "ExecuteTime": {
     "end_time": "2023-10-26T19:11:55.115197100Z",
     "start_time": "2023-10-26T19:11:55.076724200Z"
    }
   },
   "id": "2221b66fe325b92c"
  },
  {
   "cell_type": "markdown",
   "source": [
    "7.\tВизначте максимальну, мінімальну, медіанну ціну за допомогою методів  max, min, mean, median\n",
    "Питання: Максимальна ціна?\n",
    "Питання: Мінімальна ціна?\n",
    "Питання: Середня ціна?\n",
    "Питання: Медіанна ціна?\n"
   ],
   "metadata": {
    "collapsed": false
   },
   "id": "ad48ecf4bce77590"
  },
  {
   "cell_type": "code",
   "execution_count": 538,
   "outputs": [
    {
     "name": "stdout",
     "output_type": "stream",
     "text": [
      "Максимальна ціна: 105\n",
      "Мінімальна ціна: 0\n",
      "Середня ціна: 13.1\n",
      "Медіанна ціна: 11.0\n"
     ]
    }
   ],
   "source": [
    "costmax = info[\"price\"].max()\n",
    "costmin = info[\"price\"].min()\n",
    "costAvg= info[\"price\"].mean()\n",
    "costMed= info[\"price\"].median()\n",
    "print(\"Максимальна ціна:\", costmax)\n",
    "print(\"Мінімальна ціна:\", costmin)\n",
    "print(\"Середня ціна:\", costAvg)\n",
    "print(\"Медіанна ціна:\", costMed)"
   ],
   "metadata": {
    "collapsed": false,
    "ExecuteTime": {
     "end_time": "2023-10-26T19:11:55.115197100Z",
     "start_time": "2023-10-26T19:11:55.080284300Z"
    }
   },
   "id": "99bb4e382c5215af"
  },
  {
   "cell_type": "markdown",
   "source": [
    "8.\tВиконайте наступні завдання з пошуку і сортування даних\n",
    "Питання: Який рейтинг у датасеті найвищий? \n",
    "Питання: Скільки книг мають такий рейтинг? \n",
    "Питання: Яка книга має найбільше відгуків? \n",
    "Питання: З тих книг, що потрапили до Топ-50 у 2010 році, яка книга найдорожча ?\n",
    "Питання : Скільки книг жанру Fiction потрапили до Топ-50 у 2012 році \n",
    "Питання : Скільки книг з рейтингом 4.9 потрапило до рейтингу у 2010 та 2011 роках (використовуйте | або метод isin)? \n"
   ],
   "metadata": {
    "collapsed": false
   },
   "id": "29d428aaa3fd6a8b"
  },
  {
   "cell_type": "code",
   "execution_count": 539,
   "outputs": [
    {
     "name": "stdout",
     "output_type": "stream",
     "text": [
      "Найвищий рейтинг у датасеті: 4.9\n",
      "Кількість книг з найвищим рейтингом: 52\n",
      "Книга з найбільшою кількістю відгуків: Where the Crawdads Sing\n",
      "Найдорожча книга серед Топ-50 у 2010 році: Publication Manual of the American Psychological Association, 6th Edition\n",
      "Кількість книг жанру Fiction у Топ-50 у 2012 році:                                                   name                author  \\\n",
      "48                    Catching Fire (The Hunger Games)       Suzanne Collins   \n",
      "104                                Fifty Shades Darker             E L James   \n",
      "105  Fifty Shades Freed: Book Three of the Fifty Sh...             E L James   \n",
      "106  Fifty Shades of Grey: Book One of the Fifty Sh...             E L James   \n",
      "108  Fifty Shades Trilogy (Fifty Shades of Grey / F...             E L James   \n",
      "119  Game of Thrones Boxed Set: A Game of Thrones/A...    George R.R. Martin   \n",
      "135                                          Gone Girl         Gillian Flynn   \n",
      "146  Goodnight, Goodnight Construction Site (Hardco...  Sherri Duskey Rinker   \n",
      "238                      Mockingjay (The Hunger Games)       Suzanne Collins   \n",
      "245                          Oh, the Places You'll Go!             Dr. Seuss   \n",
      "353                                 The Casual Vacancy          J.K. Rowling   \n",
      "365                             The Fault in Our Stars            John Green   \n",
      "394                                   The Great Gatsby   F. Scott Fitzgerald   \n",
      "400  The Harbinger: The Ancient Mystery that Holds ...         Jonathan Cahn   \n",
      "409                          The Hunger Games (Book 1)       Suzanne Collins   \n",
      "411             The Hunger Games Trilogy Boxed Set (1)       Suzanne Collins   \n",
      "432     The Mark of Athena (Heroes of Olympus, Book 3)          Rick Riordan   \n",
      "455                                      The Racketeer          John Grisham   \n",
      "458  The Serpent's Shadow (The Kane Chronicles, Boo...          Rick Riordan   \n",
      "468     The Third Wheel (Diary of a Wimpy Kid, Book 7)           Jeff Kinney   \n",
      "538  Winter of the World: Book Two of the Century T...           Ken Follett   \n",
      "\n",
      "     user_rating  reviews  price  year    genre  \n",
      "48           4.7    22614     11  2012  Fiction  \n",
      "104          4.4    23631      7  2012  Fiction  \n",
      "105          4.5    20262     11  2012  Fiction  \n",
      "106          3.8    47265     14  2012  Fiction  \n",
      "108          4.5    13964     32  2012  Fiction  \n",
      "119          4.6     5594      5  2012  Fiction  \n",
      "135          4.0    57271     10  2012  Fiction  \n",
      "146          4.9     7038      7  2012  Fiction  \n",
      "238          4.5    26741      8  2012  Fiction  \n",
      "245          4.9    21834      8  2012  Fiction  \n",
      "353          3.3     9372     12  2012  Fiction  \n",
      "365          4.7    50482     13  2012  Fiction  \n",
      "394          4.4    11616      7  2012  Fiction  \n",
      "400          4.6    11098     13  2012  Fiction  \n",
      "409          4.7    32122      8  2012  Fiction  \n",
      "411          4.8    16949     30  2012  Fiction  \n",
      "432          4.8     6247     10  2012  Fiction  \n",
      "455          4.3    14493     18  2012  Fiction  \n",
      "458          4.8     2091     12  2012  Fiction  \n",
      "468          4.7     6377      7  2012  Fiction  \n",
      "538          4.5    10760     15  2012  Fiction  \n",
      "Кількість книг з рейтингом 4.9 у 2010 та 2011 роках: 1\n"
     ]
    }
   ],
   "source": [
    "MaxRating = info[\"user_rating\"].max()\n",
    "NumMaxRating = len(info[info[\"user_rating\"] == MaxRating])\n",
    "MaxRev = info.loc[info[\"reviews\"].idxmax()][\"name\"]\n",
    "BookPrice = info[info[\"year\"] == 2010].nlargest(50, \"user_rating\")\n",
    "MaxBookPrice = BookPrice.loc[BookPrice[\"price\"].idxmax()][\"name\"]\n",
    "PriceTop50Fiction = info[(info[\"year\"] ==2012) & (info[\"genre\"] == \"Fiction\") & (info[\"user_rating\"] <= 50)]\n",
    "NePridymalNazvanie = len(info[(info[\"year\"].isin([2010, 2011])) & (info[\"user_rating\"] == 4.9)])\n",
    "print(\"Найвищий рейтинг у датасеті:\", MaxRating)\n",
    "print(\"Кількість книг з найвищим рейтингом:\", NumMaxRating)\n",
    "print(\"Книга з найбільшою кількістю відгуків:\", MaxRev)\n",
    "print(\"Найдорожча книга серед Топ-50 у 2010 році:\", MaxBookPrice)\n",
    "print(\"Кількість книг жанру Fiction у Топ-50 у 2012 році:\", PriceTop50Fiction)\n",
    "print(\"Кількість книг з рейтингом 4.9 у 2010 та 2011 роках:\", NePridymalNazvanie)\n",
    "\n"
   ],
   "metadata": {
    "collapsed": false,
    "ExecuteTime": {
     "end_time": "2023-10-26T19:11:55.158204100Z",
     "start_time": "2023-10-26T19:11:55.084368700Z"
    }
   },
   "id": "3a54b5a9d6d068dc"
  },
  {
   "cell_type": "markdown",
   "source": [
    "9.\tВивести максимальну і  мінімальну ціну для жанру Fiction I NonFiction (за допомогою методів  groupby та agg, для підрахунку мінімальних та максимальних значень використовуйте max та min). Використовуйте тількі потрібні вам стовпці."
   ],
   "metadata": {
    "collapsed": false
   },
   "id": "eddfc7a8755ce768"
  },
  {
   "cell_type": "code",
   "execution_count": 540,
   "outputs": [
    {
     "name": "stdout",
     "output_type": "stream",
     "text": [
      "Максимальна ціна для жанру Fiction: 82\n",
      "Мінімальна ціна для жанру Fiction: 0\n",
      "Максимальна ціна для жанру NonFiction: 105\n",
      "Мінімальна ціна для жанру NonFiction: 0\n"
     ]
    }
   ],
   "source": [
    "result = info.groupby(\"genre\").agg({\"price\" : [\"max\", \"min\"]})\n",
    "MinFiction = result.loc[\"Fiction\", (\"price\",\"max\")]\n",
    "MaxFiction = result.loc[\"Fiction\", (\"price\",\"min\")]\n",
    "MinNonFiction = result.loc[\"Non Fiction\", (\"price\",\"max\")]\n",
    "MaxNonFiction = result.loc[\"Non Fiction\", (\"price\",\"min\")]\n",
    "print(\"Максимальна ціна для жанру Fiction:\", MinFiction)\n",
    "print(\"Мінімальна ціна для жанру Fiction:\", MaxFiction)\n",
    "print(\"Максимальна ціна для жанру NonFiction:\", MinNonFiction)\n",
    "print(\"Мінімальна ціна для жанру NonFiction:\", MaxNonFiction)"
   ],
   "metadata": {
    "collapsed": false,
    "ExecuteTime": {
     "end_time": "2023-10-26T19:11:55.191210600Z",
     "start_time": "2023-10-26T19:11:55.091434700Z"
    }
   },
   "id": "4c2556392458818d"
  }
 ],
 "metadata": {
  "kernelspec": {
   "display_name": "Python 3",
   "language": "python",
   "name": "python3"
  },
  "language_info": {
   "codemirror_mode": {
    "name": "ipython",
    "version": 2
   },
   "file_extension": ".py",
   "mimetype": "text/x-python",
   "name": "python",
   "nbconvert_exporter": "python",
   "pygments_lexer": "ipython2",
   "version": "2.7.6"
  }
 },
 "nbformat": 4,
 "nbformat_minor": 5
}
